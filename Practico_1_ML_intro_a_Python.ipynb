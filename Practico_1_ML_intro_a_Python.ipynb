{
  "nbformat": 4,
  "nbformat_minor": 0,
  "metadata": {
    "colab": {
      "name": "Practico 1 ML intro a Python.ipynb",
      "provenance": [],
      "collapsed_sections": [],
      "include_colab_link": true
    },
    "kernelspec": {
      "display_name": "Python 3",
      "language": "python",
      "name": "python3"
    },
    "language_info": {
      "codemirror_mode": {
        "name": "ipython",
        "version": 3
      },
      "file_extension": ".py",
      "mimetype": "text/x-python",
      "name": "python",
      "nbconvert_exporter": "python",
      "pygments_lexer": "ipython3",
      "version": "3.7.6"
    }
  },
  "cells": [
    {
      "cell_type": "markdown",
      "metadata": {
        "id": "view-in-github",
        "colab_type": "text"
      },
      "source": [
        "<a href=\"https://colab.research.google.com/github/Ecaballero333/Obligatorio_EDA1/blob/master/Practico_1_ML_intro_a_Python.ipynb\" target=\"_parent\"><img src=\"https://colab.research.google.com/assets/colab-badge.svg\" alt=\"Open In Colab\"/></a>"
      ]
    },
    {
      "cell_type": "markdown",
      "metadata": {
        "id": "qs5pFYQMaBrF"
      },
      "source": [
        "# Práctico 1: Introducción a Python"
      ]
    },
    {
      "cell_type": "markdown",
      "metadata": {
        "id": "CDnHZMm__-Qg"
      },
      "source": [
        "### Types"
      ]
    },
    {
      "cell_type": "code",
      "metadata": {
        "colab": {
          "base_uri": "https://localhost:8080/"
        },
        "id": "TivOOxhzaBrT",
        "outputId": "6077f9d4-d9d4-4b72-b8e7-5ea5cac0b508"
      },
      "source": [
        "type(23)"
      ],
      "execution_count": null,
      "outputs": [
        {
          "output_type": "execute_result",
          "data": {
            "text/plain": [
              "int"
            ]
          },
          "metadata": {
            "tags": []
          },
          "execution_count": 1
        }
      ]
    },
    {
      "cell_type": "code",
      "metadata": {
        "colab": {
          "base_uri": "https://localhost:8080/"
        },
        "id": "DBiiEcFSaBr6",
        "outputId": "7f44a5ae-c175-4f6c-e349-4d8c7912f4f6"
      },
      "source": [
        "type(1.1)"
      ],
      "execution_count": null,
      "outputs": [
        {
          "output_type": "execute_result",
          "data": {
            "text/plain": [
              "float"
            ]
          },
          "metadata": {
            "tags": []
          },
          "execution_count": 2
        }
      ]
    },
    {
      "cell_type": "code",
      "metadata": {
        "colab": {
          "base_uri": "https://localhost:8080/"
        },
        "id": "TL0lY2_waBsQ",
        "outputId": "83dee6ff-4a52-40e1-9572-6b3662442eee"
      },
      "source": [
        "type('c')"
      ],
      "execution_count": null,
      "outputs": [
        {
          "output_type": "execute_result",
          "data": {
            "text/plain": [
              "str"
            ]
          },
          "metadata": {
            "tags": []
          },
          "execution_count": 3
        }
      ]
    },
    {
      "cell_type": "code",
      "metadata": {
        "colab": {
          "base_uri": "https://localhost:8080/"
        },
        "id": "slQZ7i3baBtP",
        "outputId": "791f873d-62ce-4a81-bb63-d372a0c091d1"
      },
      "source": [
        "type(True)"
      ],
      "execution_count": null,
      "outputs": [
        {
          "output_type": "execute_result",
          "data": {
            "text/plain": [
              "bool"
            ]
          },
          "metadata": {
            "tags": []
          },
          "execution_count": 5
        }
      ]
    },
    {
      "cell_type": "markdown",
      "metadata": {
        "id": "42Jabsn__-Qh"
      },
      "source": [
        "### Operations"
      ]
    },
    {
      "cell_type": "code",
      "metadata": {
        "id": "CPgkKmMP_-Qh",
        "colab": {
          "base_uri": "https://localhost:8080/"
        },
        "outputId": "50dd67ff-1e22-4c28-dca4-dd3ba970bf5a"
      },
      "source": [
        "# Operaciones básicas\n",
        "10+1"
      ],
      "execution_count": null,
      "outputs": [
        {
          "output_type": "execute_result",
          "data": {
            "text/plain": [
              "11"
            ]
          },
          "metadata": {
            "tags": []
          },
          "execution_count": 6
        }
      ]
    },
    {
      "cell_type": "code",
      "metadata": {
        "id": "BYikxIgP_-Qh",
        "colab": {
          "base_uri": "https://localhost:8080/"
        },
        "outputId": "d1c6f6ca-4347-489a-882c-a15710835fd8"
      },
      "source": [
        "12*2"
      ],
      "execution_count": null,
      "outputs": [
        {
          "output_type": "execute_result",
          "data": {
            "text/plain": [
              "24"
            ]
          },
          "metadata": {
            "tags": []
          },
          "execution_count": 7
        }
      ]
    },
    {
      "cell_type": "code",
      "metadata": {
        "id": "EJ8cnVYL_-Qi",
        "colab": {
          "base_uri": "https://localhost:8080/"
        },
        "outputId": "b7eaf3ea-2c06-44e4-fb2a-a79398f4ab32"
      },
      "source": [
        "10-6"
      ],
      "execution_count": null,
      "outputs": [
        {
          "output_type": "execute_result",
          "data": {
            "text/plain": [
              "4"
            ]
          },
          "metadata": {
            "tags": []
          },
          "execution_count": 8
        }
      ]
    },
    {
      "cell_type": "code",
      "metadata": {
        "id": "1bfKjqpL_-Qi",
        "colab": {
          "base_uri": "https://localhost:8080/"
        },
        "outputId": "648e1765-01cd-4d23-e13d-0540b741fb23"
      },
      "source": [
        "9/2"
      ],
      "execution_count": null,
      "outputs": [
        {
          "output_type": "execute_result",
          "data": {
            "text/plain": [
              "4.5"
            ]
          },
          "metadata": {
            "tags": []
          },
          "execution_count": 9
        }
      ]
    },
    {
      "cell_type": "code",
      "metadata": {
        "id": "R_Jd5VrO_-Qi",
        "colab": {
          "base_uri": "https://localhost:8080/"
        },
        "outputId": "00e7e291-6414-45d2-d8c0-dec1088fdc7d"
      },
      "source": [
        "# Resultado de la división descartando fracciones\n",
        "9//2"
      ],
      "execution_count": null,
      "outputs": [
        {
          "output_type": "execute_result",
          "data": {
            "text/plain": [
              "4"
            ]
          },
          "metadata": {
            "tags": []
          },
          "execution_count": 10
        }
      ]
    },
    {
      "cell_type": "code",
      "metadata": {
        "id": "_ovnQzgD_-Qi",
        "colab": {
          "base_uri": "https://localhost:8080/"
        },
        "outputId": "39cac4fc-dac5-4947-ce73-5fef7c1a94c5"
      },
      "source": [
        "# Resto de la división\n",
        "9%2"
      ],
      "execution_count": null,
      "outputs": [
        {
          "output_type": "execute_result",
          "data": {
            "text/plain": [
              "1"
            ]
          },
          "metadata": {
            "tags": []
          },
          "execution_count": 11
        }
      ]
    },
    {
      "cell_type": "code",
      "metadata": {
        "id": "hdbf6KXa_-Qj",
        "colab": {
          "base_uri": "https://localhost:8080/"
        },
        "outputId": "76ac1a7e-627c-44e5-fb85-3500796d7807"
      },
      "source": [
        "# Potencia\n",
        "2**3"
      ],
      "execution_count": null,
      "outputs": [
        {
          "output_type": "execute_result",
          "data": {
            "text/plain": [
              "8"
            ]
          },
          "metadata": {
            "tags": []
          },
          "execution_count": 12
        }
      ]
    },
    {
      "cell_type": "code",
      "metadata": {
        "id": "N_oRS7_9_-Qj",
        "colab": {
          "base_uri": "https://localhost:8080/"
        },
        "outputId": "24907331-b25c-4980-8acd-fcabbbc9cda6"
      },
      "source": [
        "# Asginación\n",
        "a= 12\n",
        "a"
      ],
      "execution_count": null,
      "outputs": [
        {
          "output_type": "execute_result",
          "data": {
            "text/plain": [
              "12"
            ]
          },
          "metadata": {
            "tags": []
          },
          "execution_count": 13
        }
      ]
    },
    {
      "cell_type": "code",
      "metadata": {
        "id": "gDx1GrgX_-Qj",
        "colab": {
          "base_uri": "https://localhost:8080/"
        },
        "outputId": "12f90e6f-4030-4158-82ca-36f7045c5d8f"
      },
      "source": [
        "b, c = 2,3\n",
        "b,c"
      ],
      "execution_count": null,
      "outputs": [
        {
          "output_type": "execute_result",
          "data": {
            "text/plain": [
              "(2, 3)"
            ]
          },
          "metadata": {
            "tags": []
          },
          "execution_count": 14
        }
      ]
    },
    {
      "cell_type": "code",
      "metadata": {
        "id": "wFpej0k8_-Qj",
        "colab": {
          "base_uri": "https://localhost:8080/"
        },
        "outputId": "3f08cd4c-0579-471c-d79e-4bafb38881e6"
      },
      "source": [
        "# Evaluación\n",
        "a==b"
      ],
      "execution_count": null,
      "outputs": [
        {
          "output_type": "execute_result",
          "data": {
            "text/plain": [
              "False"
            ]
          },
          "metadata": {
            "tags": []
          },
          "execution_count": 15
        }
      ]
    },
    {
      "cell_type": "code",
      "metadata": {
        "id": "AJKc2V9Q_-Qj",
        "colab": {
          "base_uri": "https://localhost:8080/"
        },
        "outputId": "5fc55744-2134-4af7-c195-fe9e9dd353f4"
      },
      "source": [
        "a>b"
      ],
      "execution_count": null,
      "outputs": [
        {
          "output_type": "execute_result",
          "data": {
            "text/plain": [
              "True"
            ]
          },
          "metadata": {
            "tags": []
          },
          "execution_count": 16
        }
      ]
    },
    {
      "cell_type": "code",
      "metadata": {
        "id": "n83LmJsZ_-Qj",
        "colab": {
          "base_uri": "https://localhost:8080/"
        },
        "outputId": "f12fef37-da0f-433f-cecd-3e094031f9af"
      },
      "source": [
        "a<=c"
      ],
      "execution_count": null,
      "outputs": [
        {
          "output_type": "execute_result",
          "data": {
            "text/plain": [
              "False"
            ]
          },
          "metadata": {
            "tags": []
          },
          "execution_count": 17
        }
      ]
    },
    {
      "cell_type": "code",
      "metadata": {
        "id": "TeJbvid1_-Qk",
        "colab": {
          "base_uri": "https://localhost:8080/"
        },
        "outputId": "98702feb-10aa-4157-9408-f3445702ac70"
      },
      "source": [
        "c!=b"
      ],
      "execution_count": null,
      "outputs": [
        {
          "output_type": "execute_result",
          "data": {
            "text/plain": [
              "True"
            ]
          },
          "metadata": {
            "tags": []
          },
          "execution_count": 18
        }
      ]
    },
    {
      "cell_type": "markdown",
      "metadata": {
        "id": "AvTkyy-0aBtt"
      },
      "source": [
        "### Input y Print"
      ]
    },
    {
      "cell_type": "code",
      "metadata": {
        "id": "jzjENxzc_-Qk",
        "colab": {
          "base_uri": "https://localhost:8080/"
        },
        "outputId": "05924085-8177-460a-fc12-715bd14b8fb7"
      },
      "source": [
        "print('Como te llamas?')"
      ],
      "execution_count": null,
      "outputs": [
        {
          "output_type": "stream",
          "text": [
            "Como te llamas?\n"
          ],
          "name": "stdout"
        }
      ]
    },
    {
      "cell_type": "code",
      "metadata": {
        "id": "IXtqtelf_-Qk",
        "colab": {
          "base_uri": "https://localhost:8080/"
        },
        "outputId": "cdbb331f-8758-4f44-f347-7e7f9c89526a"
      },
      "source": [
        "nombre = input('Como te llamas?')"
      ],
      "execution_count": null,
      "outputs": [
        {
          "output_type": "stream",
          "text": [
            "Como te llamas?\n"
          ],
          "name": "stdout"
        }
      ]
    },
    {
      "cell_type": "code",
      "metadata": {
        "colab": {
          "base_uri": "https://localhost:8080/"
        },
        "id": "3FID-RZTaBuR",
        "outputId": "d90567ca-0f6e-4976-e1ac-d3c1eb3afe0a"
      },
      "source": [
        "print('Hola', nombre, '!')\n"
      ],
      "execution_count": null,
      "outputs": [
        {
          "output_type": "stream",
          "text": [
            "Hola  !\n"
          ],
          "name": "stdout"
        }
      ]
    },
    {
      "cell_type": "code",
      "metadata": {
        "id": "2bXUAuK1_-Qk",
        "colab": {
          "base_uri": "https://localhost:8080/",
          "height": 178
        },
        "outputId": "c6296105-b21c-4f62-c059-aa393a5205c3"
      },
      "source": [
        "edad = int(input('Cual es tu edad?'))"
      ],
      "execution_count": null,
      "outputs": [
        {
          "output_type": "stream",
          "text": [
            "Cual es tu edad?\n"
          ],
          "name": "stdout"
        },
        {
          "output_type": "error",
          "ename": "ValueError",
          "evalue": "ignored",
          "traceback": [
            "\u001b[0;31m---------------------------------------------------------------------------\u001b[0m",
            "\u001b[0;31mValueError\u001b[0m                                Traceback (most recent call last)",
            "\u001b[0;32m<ipython-input-22-28b917d81edf>\u001b[0m in \u001b[0;36m<module>\u001b[0;34m()\u001b[0m\n\u001b[0;32m----> 1\u001b[0;31m \u001b[0medad\u001b[0m \u001b[0;34m=\u001b[0m \u001b[0mint\u001b[0m\u001b[0;34m(\u001b[0m\u001b[0minput\u001b[0m\u001b[0;34m(\u001b[0m\u001b[0;34m'Cual es tu edad?'\u001b[0m\u001b[0;34m)\u001b[0m\u001b[0;34m)\u001b[0m\u001b[0;34m\u001b[0m\u001b[0;34m\u001b[0m\u001b[0m\n\u001b[0m",
            "\u001b[0;31mValueError\u001b[0m: invalid literal for int() with base 10: ''"
          ]
        }
      ]
    },
    {
      "cell_type": "code",
      "metadata": {
        "id": "jIcC8xUq_-Ql"
      },
      "source": [
        "print(nombre, ' tiene ', edad, ' años')\n"
      ],
      "execution_count": null,
      "outputs": []
    },
    {
      "cell_type": "markdown",
      "metadata": {
        "id": "uDZmIdh7aBuw"
      },
      "source": [
        "### Control Structures"
      ]
    },
    {
      "cell_type": "code",
      "metadata": {
        "id": "gz5kYFTzBhYm"
      },
      "source": [
        "edad = 36"
      ],
      "execution_count": null,
      "outputs": []
    },
    {
      "cell_type": "code",
      "metadata": {
        "colab": {
          "base_uri": "https://localhost:8080/"
        },
        "id": "CfuwcKa9aBu1",
        "outputId": "60e859da-ebb8-4e31-a4e6-dccc6ea8db55"
      },
      "source": [
        "# IF\n",
        "if edad < 20:\n",
        "    print('Bienvenido al curso joven superdotado')\n",
        "elif edad >= 20 and edad <= 35:\n",
        "    print('Bienvenido al curso humano')\n",
        "else:\n",
        "    print('\\_(¤ v ¤)_/')"
      ],
      "execution_count": null,
      "outputs": [
        {
          "output_type": "stream",
          "text": [
            "\\_(¤ v ¤)_/\n"
          ],
          "name": "stdout"
        }
      ]
    },
    {
      "cell_type": "code",
      "metadata": {
        "colab": {
          "base_uri": "https://localhost:8080/"
        },
        "id": "uoO0DScNaBvi",
        "outputId": "187c0ff8-89ab-49f8-b441-ca4c5ac28bad"
      },
      "source": [
        "# WHILE\n",
        "numero = 0\n",
        "while numero < 10:\n",
        "    print(numero)\n",
        "    numero += 1"
      ],
      "execution_count": null,
      "outputs": [
        {
          "output_type": "stream",
          "text": [
            "0\n",
            "1\n",
            "2\n",
            "3\n",
            "4\n",
            "5\n",
            "6\n",
            "7\n",
            "8\n",
            "9\n"
          ],
          "name": "stdout"
        }
      ]
    },
    {
      "cell_type": "code",
      "metadata": {
        "id": "OdrOvLjXiyY0"
      },
      "source": [
        ""
      ],
      "execution_count": null,
      "outputs": []
    },
    {
      "cell_type": "markdown",
      "metadata": {
        "id": "amAu2Cn7aBwW"
      },
      "source": [
        "### Lists"
      ]
    },
    {
      "cell_type": "code",
      "metadata": {
        "colab": {
          "base_uri": "https://localhost:8080/"
        },
        "id": "94JVZ6k-aBwY",
        "outputId": "f141d314-4582-4f3b-c9ca-63c4d8b0594c"
      },
      "source": [
        "# Crear lista\n",
        "lista = [1, 2, 3]\n",
        "lista"
      ],
      "execution_count": null,
      "outputs": [
        {
          "output_type": "execute_result",
          "data": {
            "text/plain": [
              "[1, 2, 3]"
            ]
          },
          "metadata": {
            "tags": []
          },
          "execution_count": 130
        }
      ]
    },
    {
      "cell_type": "code",
      "metadata": {
        "colab": {
          "base_uri": "https://localhost:8080/"
        },
        "id": "h1Dbe2b1_-Qm",
        "outputId": "2d36c609-eb29-4ff3-bc0b-05b9d3bf732f"
      },
      "source": [
        "type(list)"
      ],
      "execution_count": null,
      "outputs": [
        {
          "output_type": "execute_result",
          "data": {
            "text/plain": [
              "list"
            ]
          },
          "metadata": {
            "tags": []
          },
          "execution_count": 131
        }
      ]
    },
    {
      "cell_type": "code",
      "metadata": {
        "colab": {
          "base_uri": "https://localhost:8080/"
        },
        "id": "ZoeRaAtW_-Qm",
        "outputId": "9bec25e1-31ad-448f-d8f5-8387dfe9e310"
      },
      "source": [
        "# Agregar elementos a una lista\n",
        "lista.append(4)\n",
        "lista"
      ],
      "execution_count": null,
      "outputs": [
        {
          "output_type": "execute_result",
          "data": {
            "text/plain": [
              "[1, 2, 3, 4]"
            ]
          },
          "metadata": {
            "tags": []
          },
          "execution_count": 132
        }
      ]
    },
    {
      "cell_type": "code",
      "metadata": {
        "colab": {
          "base_uri": "https://localhost:8080/"
        },
        "id": "jQZ2YT4Md4qk",
        "outputId": "8d56d067-e4f3-42bb-b4c0-bca2ba447423"
      },
      "source": [
        "# Lista vacía\n",
        "lista2 = []\n",
        "lista2"
      ],
      "execution_count": null,
      "outputs": [
        {
          "output_type": "execute_result",
          "data": {
            "text/plain": [
              "[]"
            ]
          },
          "metadata": {
            "tags": []
          },
          "execution_count": 133
        }
      ]
    },
    {
      "cell_type": "code",
      "metadata": {
        "colab": {
          "base_uri": "https://localhost:8080/"
        },
        "id": "abXWd6F5aBwp",
        "outputId": "66db31f3-e6df-44f6-a94d-ab5cbcd085ff"
      },
      "source": [
        "# Elementos en cada lista\n",
        "len(lista), len(lista2)"
      ],
      "execution_count": null,
      "outputs": [
        {
          "output_type": "execute_result",
          "data": {
            "text/plain": [
              "(4, 0)"
            ]
          },
          "metadata": {
            "tags": []
          },
          "execution_count": 134
        }
      ]
    },
    {
      "cell_type": "code",
      "metadata": {
        "colab": {
          "base_uri": "https://localhost:8080/"
        },
        "id": "ISQ_EmXA_-Qm",
        "outputId": "92a4eafd-1833-497a-f163-45d7c6e0f7a0"
      },
      "source": [
        "# Listas con diferentes tipos de datos\n",
        "lista.append('hola')\n",
        "lista"
      ],
      "execution_count": null,
      "outputs": [
        {
          "output_type": "execute_result",
          "data": {
            "text/plain": [
              "[1, 2, 3, 4, 'hola']"
            ]
          },
          "metadata": {
            "tags": []
          },
          "execution_count": 135
        }
      ]
    },
    {
      "cell_type": "code",
      "metadata": {
        "colab": {
          "base_uri": "https://localhost:8080/"
        },
        "id": "6_P6fSSw_-Qm",
        "outputId": "4f336439-ba10-457f-e38b-da6316605f0c"
      },
      "source": [
        "lista+=[True,2.3]\n",
        "lista"
      ],
      "execution_count": null,
      "outputs": [
        {
          "output_type": "execute_result",
          "data": {
            "text/plain": [
              "[1, 2, 3, 4, 'hola', True, 2.3]"
            ]
          },
          "metadata": {
            "tags": []
          },
          "execution_count": 136
        }
      ]
    },
    {
      "cell_type": "code",
      "metadata": {
        "colab": {
          "base_uri": "https://localhost:8080/"
        },
        "id": "Qm2FPJB4_-Qn",
        "outputId": "ec7145b0-c362-4fcb-ff9d-680f883d40fc"
      },
      "source": [
        "# Usar indices para acceder a los elementos de listas\n",
        "lista[0]"
      ],
      "execution_count": null,
      "outputs": [
        {
          "output_type": "execute_result",
          "data": {
            "text/plain": [
              "1"
            ]
          },
          "metadata": {
            "tags": []
          },
          "execution_count": 137
        }
      ]
    },
    {
      "cell_type": "code",
      "metadata": {
        "colab": {
          "base_uri": "https://localhost:8080/"
        },
        "id": "Jb_Y21DZ_-Qn",
        "outputId": "25d15e3a-f38b-41f3-9f21-cd86fb5ef3f6"
      },
      "source": [
        "lista[-1]"
      ],
      "execution_count": null,
      "outputs": [
        {
          "output_type": "execute_result",
          "data": {
            "text/plain": [
              "2.3"
            ]
          },
          "metadata": {
            "tags": []
          },
          "execution_count": 138
        }
      ]
    },
    {
      "cell_type": "code",
      "metadata": {
        "colab": {
          "base_uri": "https://localhost:8080/"
        },
        "id": "TyTNL79fDxvQ",
        "outputId": "894f1d67-2063-4075-a479-d31cbde5c7b1"
      },
      "source": [
        "lista[-2]"
      ],
      "execution_count": null,
      "outputs": [
        {
          "output_type": "execute_result",
          "data": {
            "text/plain": [
              "True"
            ]
          },
          "metadata": {
            "tags": []
          },
          "execution_count": 139
        }
      ]
    },
    {
      "cell_type": "code",
      "metadata": {
        "colab": {
          "base_uri": "https://localhost:8080/"
        },
        "id": "gZC_uy8_aBxC",
        "outputId": "c84fd909-351e-4fb6-eb27-3b990a434760"
      },
      "source": [
        "lista[1] + lista[2] == 6"
      ],
      "execution_count": null,
      "outputs": [
        {
          "output_type": "execute_result",
          "data": {
            "text/plain": [
              "False"
            ]
          },
          "metadata": {
            "tags": []
          },
          "execution_count": 140
        }
      ]
    },
    {
      "cell_type": "code",
      "metadata": {
        "id": "r77xlE6oD88s",
        "colab": {
          "base_uri": "https://localhost:8080/"
        },
        "outputId": "1b057808-d0a1-4d99-ae72-21ee858f1154"
      },
      "source": [
        "lista[1] + lista[2] == 5"
      ],
      "execution_count": null,
      "outputs": [
        {
          "output_type": "execute_result",
          "data": {
            "text/plain": [
              "True"
            ]
          },
          "metadata": {
            "tags": []
          },
          "execution_count": 141
        }
      ]
    },
    {
      "cell_type": "code",
      "metadata": {
        "colab": {
          "base_uri": "https://localhost:8080/"
        },
        "id": "gk3mQNCWEEtE",
        "outputId": "4710ee38-d247-409d-8f29-868eb42cf8f1"
      },
      "source": [
        "lista"
      ],
      "execution_count": null,
      "outputs": [
        {
          "output_type": "execute_result",
          "data": {
            "text/plain": [
              "[1, 2, 3, 4, 'hola', True, 2.3]"
            ]
          },
          "metadata": {
            "tags": []
          },
          "execution_count": 142
        }
      ]
    },
    {
      "cell_type": "code",
      "metadata": {
        "colab": {
          "base_uri": "https://localhost:8080/"
        },
        "id": "oUCah7FD_-Qn",
        "outputId": "cf4efad1-1907-4dc7-ddbe-96ec42dc41b3"
      },
      "source": [
        "# SLicing\n",
        "lista[1:5]"
      ],
      "execution_count": null,
      "outputs": [
        {
          "output_type": "execute_result",
          "data": {
            "text/plain": [
              "[2, 3, 4, 'hola']"
            ]
          },
          "metadata": {
            "tags": []
          },
          "execution_count": 143
        }
      ]
    },
    {
      "cell_type": "code",
      "metadata": {
        "id": "xo97YJRM_-Qn",
        "colab": {
          "base_uri": "https://localhost:8080/"
        },
        "outputId": "a8e8ffd5-2d2e-4f3f-a81c-b710034958b2"
      },
      "source": [
        "lista[:5]"
      ],
      "execution_count": null,
      "outputs": [
        {
          "output_type": "execute_result",
          "data": {
            "text/plain": [
              "[1, 2, 3, 4, 'hola']"
            ]
          },
          "metadata": {
            "tags": []
          },
          "execution_count": 144
        }
      ]
    },
    {
      "cell_type": "code",
      "metadata": {
        "id": "OB9itTgL_-Qn",
        "colab": {
          "base_uri": "https://localhost:8080/"
        },
        "outputId": "574fe8d3-71c8-44d7-a2f2-bb3cc5cc6c02"
      },
      "source": [
        "lista[1:6:2]"
      ],
      "execution_count": null,
      "outputs": [
        {
          "output_type": "execute_result",
          "data": {
            "text/plain": [
              "[2, 4, True]"
            ]
          },
          "metadata": {
            "tags": []
          },
          "execution_count": 145
        }
      ]
    },
    {
      "cell_type": "code",
      "metadata": {
        "id": "K44sYWeg_-Qn",
        "colab": {
          "base_uri": "https://localhost:8080/"
        },
        "outputId": "4793b2d0-0479-4223-f84e-3c5ae3e1a088"
      },
      "source": [
        "lista[1:-2]"
      ],
      "execution_count": null,
      "outputs": [
        {
          "output_type": "execute_result",
          "data": {
            "text/plain": [
              "[2, 3, 4, 'hola']"
            ]
          },
          "metadata": {
            "tags": []
          },
          "execution_count": 146
        }
      ]
    },
    {
      "cell_type": "code",
      "metadata": {
        "colab": {
          "base_uri": "https://localhost:8080/"
        },
        "id": "898GemZhC4c0",
        "outputId": "f321a705-bf45-4b99-a890-494ea49cbca9"
      },
      "source": [
        "#  Recorrido de una lista\n",
        "lista_rec = [0.0, 0.2, 0.3, 0.5, 0.6]\n",
        "for i in lista_rec:\n",
        "    print(i)\n"
      ],
      "execution_count": null,
      "outputs": [
        {
          "output_type": "stream",
          "text": [
            "0.0\n",
            "0.2\n",
            "0.3\n",
            "0.5\n",
            "0.6\n"
          ],
          "name": "stdout"
        }
      ]
    },
    {
      "cell_type": "code",
      "metadata": {
        "colab": {
          "base_uri": "https://localhost:8080/"
        },
        "id": "sxHZy3JCDJT_",
        "outputId": "54b1e827-99fe-49b4-998a-e13ea0efda5b"
      },
      "source": [
        "# Recorrido en un rango\n",
        "for i in range(0,len(lista_rec)):\n",
        "    print(i)"
      ],
      "execution_count": null,
      "outputs": [
        {
          "output_type": "stream",
          "text": [
            "0\n",
            "1\n",
            "2\n",
            "3\n",
            "4\n"
          ],
          "name": "stdout"
        }
      ]
    },
    {
      "cell_type": "markdown",
      "metadata": {
        "id": "AEDg7kuqaByj"
      },
      "source": [
        "### Dictionary"
      ]
    },
    {
      "cell_type": "code",
      "metadata": {
        "colab": {
          "base_uri": "https://localhost:8080/"
        },
        "id": "F2auT6PyC4w_",
        "outputId": "b9ead2d5-cbf5-4c81-8442-80c43ec5631d"
      },
      "source": [
        "diccionario = {}\n",
        "type(diccionario)"
      ],
      "execution_count": null,
      "outputs": [
        {
          "output_type": "execute_result",
          "data": {
            "text/plain": [
              "dict"
            ]
          },
          "metadata": {
            "tags": []
          },
          "execution_count": 1
        }
      ]
    },
    {
      "cell_type": "code",
      "metadata": {
        "colab": {
          "base_uri": "https://localhost:8080/"
        },
        "id": "uTc2wxsvaByp",
        "outputId": "bd60286c-048b-4131-cc83-f68a33564090"
      },
      "source": [
        "keyValue = dict()\n",
        "type(keyValue)"
      ],
      "execution_count": null,
      "outputs": [
        {
          "output_type": "execute_result",
          "data": {
            "text/plain": [
              "dict"
            ]
          },
          "metadata": {
            "tags": []
          },
          "execution_count": 3
        }
      ]
    },
    {
      "cell_type": "code",
      "metadata": {
        "id": "hFC99ZkVaBzN"
      },
      "source": [
        "keyValue[\"test\"] =  2"
      ],
      "execution_count": null,
      "outputs": []
    },
    {
      "cell_type": "code",
      "metadata": {
        "colab": {
          "base_uri": "https://localhost:8080/"
        },
        "id": "ghGfoEXVaBzl",
        "outputId": "b30f3081-bb48-4960-a3ee-7cd97c0139b4"
      },
      "source": [
        "keyValue"
      ],
      "execution_count": null,
      "outputs": [
        {
          "output_type": "execute_result",
          "data": {
            "text/plain": [
              "{'test': 2}"
            ]
          },
          "metadata": {
            "tags": []
          },
          "execution_count": 6
        }
      ]
    },
    {
      "cell_type": "code",
      "metadata": {
        "colab": {
          "base_uri": "https://localhost:8080/"
        },
        "id": "6HE1HVSEaB0H",
        "outputId": "8f44d9b0-64f2-46c5-9952-d7696fbd0b3b"
      },
      "source": [
        "keyValue[\"test\"]"
      ],
      "execution_count": null,
      "outputs": [
        {
          "output_type": "execute_result",
          "data": {
            "text/plain": [
              "2"
            ]
          },
          "metadata": {
            "tags": []
          },
          "execution_count": 7
        }
      ]
    },
    {
      "cell_type": "code",
      "metadata": {
        "id": "kJH0OFnAaB00"
      },
      "source": [
        "keyValue = {'alumno1': 172121, 'alumno2': 412312, 'alumno5': 939121}"
      ],
      "execution_count": null,
      "outputs": []
    },
    {
      "cell_type": "code",
      "metadata": {
        "colab": {
          "base_uri": "https://localhost:8080/"
        },
        "id": "axxppVQnaB1P",
        "outputId": "182cc1e1-b853-4ea9-ddd6-8e9fa634f66d"
      },
      "source": [
        "keyValue.get('alumno5')"
      ],
      "execution_count": null,
      "outputs": [
        {
          "output_type": "execute_result",
          "data": {
            "text/plain": [
              "939121"
            ]
          },
          "metadata": {
            "tags": []
          },
          "execution_count": 11
        }
      ]
    },
    {
      "cell_type": "code",
      "metadata": {
        "colab": {
          "base_uri": "https://localhost:8080/"
        },
        "id": "QdA4VS8VDs6X",
        "outputId": "356c5230-ead3-440d-964b-10858d65d325"
      },
      "source": [
        "# Obtener los valores de un diccionario:\n",
        "for value in keyValue.values():\n",
        "  print(value)\n"
      ],
      "execution_count": null,
      "outputs": [
        {
          "output_type": "stream",
          "text": [
            "172121\n",
            "412312\n",
            "939121\n"
          ],
          "name": "stdout"
        }
      ]
    },
    {
      "cell_type": "markdown",
      "metadata": {
        "id": "muOZuFaVaB2K"
      },
      "source": [
        "### Array"
      ]
    },
    {
      "cell_type": "code",
      "metadata": {
        "id": "WvHe-0IuaB2O"
      },
      "source": [
        "import numpy as np"
      ],
      "execution_count": null,
      "outputs": []
    },
    {
      "cell_type": "code",
      "metadata": {
        "colab": {
          "base_uri": "https://localhost:8080/"
        },
        "id": "tksNbGhPaB2i",
        "outputId": "5cd007e6-a96b-426f-cd19-84b698a9ca38"
      },
      "source": [
        "np.array([1.5, 3, 4])"
      ],
      "execution_count": null,
      "outputs": [
        {
          "output_type": "execute_result",
          "data": {
            "text/plain": [
              "array([1.5, 3. , 4. ])"
            ]
          },
          "metadata": {
            "tags": []
          },
          "execution_count": 35
        }
      ]
    },
    {
      "cell_type": "code",
      "metadata": {
        "colab": {
          "base_uri": "https://localhost:8080/"
        },
        "id": "VL5Mw_Lqnceb",
        "outputId": "9da67f75-9e10-4ecb-d43d-c97f3e38d979"
      },
      "source": [
        "np.array([0.5, 0.7, 0.2, 1.5], dtype=np.int32)\n",
        "\n",
        "#pasa los numeros a enteros"
      ],
      "execution_count": null,
      "outputs": [
        {
          "output_type": "execute_result",
          "data": {
            "text/plain": [
              "array([0, 0, 0, 1], dtype=int32)"
            ]
          },
          "metadata": {
            "tags": []
          },
          "execution_count": 36
        }
      ]
    },
    {
      "cell_type": "code",
      "metadata": {
        "colab": {
          "base_uri": "https://localhost:8080/"
        },
        "id": "MpQpcLL8aB25",
        "outputId": "6b51ba4f-89e5-4267-80c2-ae9cb2d492c0"
      },
      "source": [
        "a1 = np.array([1.5, 3, 4], dtype=np.int32)\n",
        "a1"
      ],
      "execution_count": null,
      "outputs": [
        {
          "output_type": "execute_result",
          "data": {
            "text/plain": [
              "array([1, 3, 4], dtype=int32)"
            ]
          },
          "metadata": {
            "tags": []
          },
          "execution_count": 37
        }
      ]
    },
    {
      "cell_type": "code",
      "metadata": {
        "colab": {
          "base_uri": "https://localhost:8080/"
        },
        "id": "twfJdyOiaB3Z",
        "outputId": "3d226e98-aa69-45f9-c7bf-dfc2c0c6be2f"
      },
      "source": [
        "np.sum(a1)"
      ],
      "execution_count": null,
      "outputs": [
        {
          "output_type": "execute_result",
          "data": {
            "text/plain": [
              "8"
            ]
          },
          "metadata": {
            "tags": []
          },
          "execution_count": 38
        }
      ]
    },
    {
      "cell_type": "code",
      "metadata": {
        "colab": {
          "base_uri": "https://localhost:8080/"
        },
        "id": "Y82UoFFAaB3r",
        "outputId": "7922cb29-8f95-47b3-d255-564a72ead840"
      },
      "source": [
        "np.mean(a1)"
      ],
      "execution_count": null,
      "outputs": [
        {
          "output_type": "execute_result",
          "data": {
            "text/plain": [
              "2.6666666666666665"
            ]
          },
          "metadata": {
            "tags": []
          },
          "execution_count": 39
        }
      ]
    },
    {
      "cell_type": "code",
      "metadata": {
        "colab": {
          "base_uri": "https://localhost:8080/"
        },
        "id": "zTR3slDUaB4A",
        "outputId": "edc303e9-dd55-45c8-f6b3-f2c0c4cc36c5"
      },
      "source": [
        "np.shape(a1)"
      ],
      "execution_count": null,
      "outputs": [
        {
          "output_type": "execute_result",
          "data": {
            "text/plain": [
              "(3,)"
            ]
          },
          "metadata": {
            "tags": []
          },
          "execution_count": 40
        }
      ]
    },
    {
      "cell_type": "code",
      "metadata": {
        "colab": {
          "base_uri": "https://localhost:8080/"
        },
        "id": "pOZ0T1MLaB4V",
        "outputId": "d5f1f286-ffe6-467d-a3f4-75977b3eeef7"
      },
      "source": [
        "a1.reshape(3, -1)"
      ],
      "execution_count": null,
      "outputs": [
        {
          "output_type": "execute_result",
          "data": {
            "text/plain": [
              "array([[1],\n",
              "       [3],\n",
              "       [4]], dtype=int32)"
            ]
          },
          "metadata": {
            "tags": []
          },
          "execution_count": 41
        }
      ]
    },
    {
      "cell_type": "code",
      "metadata": {
        "colab": {
          "base_uri": "https://localhost:8080/"
        },
        "id": "Gbbyu2Irlme8",
        "outputId": "1e4cb62d-5979-4b6b-bca1-d1bf99b5e5b1"
      },
      "source": [
        "np1 = np.ones(10)\n",
        "np1\n",
        "# genera un array de unos"
      ],
      "execution_count": null,
      "outputs": [
        {
          "output_type": "execute_result",
          "data": {
            "text/plain": [
              "array([1., 1., 1., 1., 1., 1., 1., 1., 1., 1.])"
            ]
          },
          "metadata": {
            "tags": []
          },
          "execution_count": 42
        }
      ]
    },
    {
      "cell_type": "code",
      "metadata": {
        "id": "Sm21kmcyaB4m",
        "colab": {
          "base_uri": "https://localhost:8080/"
        },
        "outputId": "4092236b-0bdf-48a1-d708-97aea47be55b"
      },
      "source": [
        "np.ones(10) * 3"
      ],
      "execution_count": null,
      "outputs": [
        {
          "output_type": "execute_result",
          "data": {
            "text/plain": [
              "array([3., 3., 3., 3., 3., 3., 3., 3., 3., 3.])"
            ]
          },
          "metadata": {
            "tags": []
          },
          "execution_count": 43
        }
      ]
    },
    {
      "cell_type": "code",
      "metadata": {
        "colab": {
          "base_uri": "https://localhost:8080/"
        },
        "id": "Gq9p4g0PaB46",
        "outputId": "4a1666f5-feeb-4549-9894-743766e7d29c"
      },
      "source": [
        "np.zeros(10) + 1\n",
        "\n",
        "# genera un array de ceros y les suma 1"
      ],
      "execution_count": null,
      "outputs": [
        {
          "output_type": "execute_result",
          "data": {
            "text/plain": [
              "array([1., 1., 1., 1., 1., 1., 1., 1., 1., 1.])"
            ]
          },
          "metadata": {
            "tags": []
          },
          "execution_count": 44
        }
      ]
    },
    {
      "cell_type": "markdown",
      "metadata": {
        "id": "zLOhDmQ4aB5Q"
      },
      "source": [
        "### Matrices"
      ]
    },
    {
      "cell_type": "code",
      "metadata": {
        "colab": {
          "base_uri": "https://localhost:8080/"
        },
        "id": "mrFVZREkaB5S",
        "outputId": "89b24d98-348e-4048-e32d-a1259ab6e5c3"
      },
      "source": [
        "m1 = np.array([[1,2,3],[6,4,5]])\n",
        "m1"
      ],
      "execution_count": null,
      "outputs": [
        {
          "output_type": "execute_result",
          "data": {
            "text/plain": [
              "array([[1, 2, 3],\n",
              "       [6, 4, 5]])"
            ]
          },
          "metadata": {
            "tags": []
          },
          "execution_count": 45
        }
      ]
    },
    {
      "cell_type": "code",
      "metadata": {
        "colab": {
          "base_uri": "https://localhost:8080/"
        },
        "id": "yDe9j8kmaB5m",
        "outputId": "45475f96-09fd-4621-b126-db2bfb56dc80"
      },
      "source": [
        "m1.shape"
      ],
      "execution_count": null,
      "outputs": [
        {
          "output_type": "execute_result",
          "data": {
            "text/plain": [
              "(2, 3)"
            ]
          },
          "metadata": {
            "tags": []
          },
          "execution_count": 46
        }
      ]
    },
    {
      "cell_type": "code",
      "metadata": {
        "colab": {
          "base_uri": "https://localhost:8080/"
        },
        "id": "rwslq5c-aB5x",
        "outputId": "3c77d3c3-82bf-4038-d980-0528398c964a"
      },
      "source": [
        "m1.reshape(3, -1)"
      ],
      "execution_count": null,
      "outputs": [
        {
          "output_type": "execute_result",
          "data": {
            "text/plain": [
              "array([[1, 2],\n",
              "       [3, 6],\n",
              "       [4, 5]])"
            ]
          },
          "metadata": {
            "tags": []
          },
          "execution_count": 47
        }
      ]
    },
    {
      "cell_type": "code",
      "metadata": {
        "colab": {
          "base_uri": "https://localhost:8080/"
        },
        "id": "imM3TpBjaB6P",
        "outputId": "7e3f15c2-94d3-4316-ca56-5ad1ed2c0b1c"
      },
      "source": [
        "m1.transpose()"
      ],
      "execution_count": null,
      "outputs": [
        {
          "output_type": "execute_result",
          "data": {
            "text/plain": [
              "array([[1, 6],\n",
              "       [2, 4],\n",
              "       [3, 5]])"
            ]
          },
          "metadata": {
            "tags": []
          },
          "execution_count": 48
        }
      ]
    },
    {
      "cell_type": "code",
      "metadata": {
        "colab": {
          "base_uri": "https://localhost:8080/"
        },
        "id": "3Xe_JI68aB6s",
        "outputId": "7789e728-9f65-4073-c5e5-edde61570942"
      },
      "source": [
        "np.sum(m1)\n",
        "# suma todos los elementos de la matriz"
      ],
      "execution_count": null,
      "outputs": [
        {
          "output_type": "execute_result",
          "data": {
            "text/plain": [
              "21"
            ]
          },
          "metadata": {
            "tags": []
          },
          "execution_count": 49
        }
      ]
    },
    {
      "cell_type": "code",
      "metadata": {
        "colab": {
          "base_uri": "https://localhost:8080/"
        },
        "id": "hETgJPYMaB6-",
        "outputId": "7f9da9e8-4fc8-43fc-c995-35c704183b7a"
      },
      "source": [
        "np.sum(m1, axis=0)"
      ],
      "execution_count": null,
      "outputs": [
        {
          "output_type": "execute_result",
          "data": {
            "text/plain": [
              "array([7, 6, 8])"
            ]
          },
          "metadata": {
            "tags": []
          },
          "execution_count": 50
        }
      ]
    },
    {
      "cell_type": "code",
      "metadata": {
        "colab": {
          "base_uri": "https://localhost:8080/"
        },
        "id": "LrhbBL87aB7j",
        "outputId": "ed8a80e0-7c1a-4ec9-a5fb-7df7923d2165"
      },
      "source": [
        "np.sum(m1, axis=1)"
      ],
      "execution_count": null,
      "outputs": [
        {
          "output_type": "execute_result",
          "data": {
            "text/plain": [
              "array([ 6, 15])"
            ]
          },
          "metadata": {
            "tags": []
          },
          "execution_count": 51
        }
      ]
    },
    {
      "cell_type": "markdown",
      "metadata": {
        "id": "L_JT7nygaB7y"
      },
      "source": [
        "### Tuples"
      ]
    },
    {
      "cell_type": "code",
      "metadata": {
        "id": "sAazZrVsaB72",
        "colab": {
          "base_uri": "https://localhost:8080/"
        },
        "outputId": "6b902cfd-8aee-4346-c507-ff6d9f4933e1"
      },
      "source": [
        "t = (2, 3)\n",
        "t"
      ],
      "execution_count": null,
      "outputs": [
        {
          "output_type": "execute_result",
          "data": {
            "text/plain": [
              "(2, 3)"
            ]
          },
          "metadata": {
            "tags": []
          },
          "execution_count": 52
        }
      ]
    },
    {
      "cell_type": "code",
      "metadata": {
        "id": "hpNbi3dPaB8A",
        "colab": {
          "base_uri": "https://localhost:8080/"
        },
        "outputId": "26879739-b809-4dfd-d98d-beb4b811c487"
      },
      "source": [
        "t[0]"
      ],
      "execution_count": null,
      "outputs": [
        {
          "output_type": "execute_result",
          "data": {
            "text/plain": [
              "2"
            ]
          },
          "metadata": {
            "tags": []
          },
          "execution_count": 53
        }
      ]
    },
    {
      "cell_type": "code",
      "metadata": {
        "id": "FPjCED8baB8R",
        "colab": {
          "base_uri": "https://localhost:8080/"
        },
        "outputId": "88e1b3d2-29ef-4b1f-d1bd-b8d79c802385"
      },
      "source": [
        "t[0:2]"
      ],
      "execution_count": null,
      "outputs": [
        {
          "output_type": "execute_result",
          "data": {
            "text/plain": [
              "(2, 3)"
            ]
          },
          "metadata": {
            "tags": []
          },
          "execution_count": 54
        }
      ]
    },
    {
      "cell_type": "markdown",
      "metadata": {
        "id": "yebnfncc_-Qr"
      },
      "source": [
        "### Funciones"
      ]
    },
    {
      "cell_type": "code",
      "metadata": {
        "id": "4UHseb82_-Qr"
      },
      "source": [
        "def sum_two_numbers(a, b):\n",
        "    return a + b"
      ],
      "execution_count": null,
      "outputs": []
    },
    {
      "cell_type": "code",
      "metadata": {
        "id": "y2idBmY3_-Qr",
        "colab": {
          "base_uri": "https://localhost:8080/"
        },
        "outputId": "6345f588-0016-4595-9e1b-7982423e9595"
      },
      "source": [
        "sum_two_numbers(35656,74812)  "
      ],
      "execution_count": null,
      "outputs": [
        {
          "output_type": "execute_result",
          "data": {
            "text/plain": [
              "110468"
            ]
          },
          "metadata": {
            "tags": []
          },
          "execution_count": 56
        }
      ]
    },
    {
      "cell_type": "markdown",
      "metadata": {
        "id": "ndUHZj3PaB9D"
      },
      "source": [
        "### Classes"
      ]
    },
    {
      "cell_type": "code",
      "metadata": {
        "id": "xksEnMQ2aB9H"
      },
      "source": [
        "# Creación clase Person\n",
        "class Person:\n",
        "    pass      "
      ],
      "execution_count": null,
      "outputs": []
    },
    {
      "cell_type": "code",
      "metadata": {
        "id": "dudR0t4H_-Qr"
      },
      "source": [
        "ana=Person()"
      ],
      "execution_count": null,
      "outputs": []
    },
    {
      "cell_type": "code",
      "metadata": {
        "id": "3JL91Gl6_-Qr",
        "colab": {
          "base_uri": "https://localhost:8080/"
        },
        "outputId": "868162b1-55db-403e-b159-b764204e4cbb"
      },
      "source": [
        "type(ana)"
      ],
      "execution_count": null,
      "outputs": [
        {
          "output_type": "execute_result",
          "data": {
            "text/plain": [
              "__main__.Person"
            ]
          },
          "metadata": {
            "tags": []
          },
          "execution_count": 59
        }
      ]
    },
    {
      "cell_type": "code",
      "metadata": {
        "id": "ONB5LPIS_-Qr"
      },
      "source": [
        "class Person:\n",
        "    \n",
        "    def __init__(self, name, age):\n",
        "        self.name = name\n",
        "        self.age = age    "
      ],
      "execution_count": null,
      "outputs": []
    },
    {
      "cell_type": "code",
      "metadata": {
        "id": "dhEaigsKaB9U"
      },
      "source": [
        "maria = Person(\"Maria\", 32)"
      ],
      "execution_count": null,
      "outputs": []
    },
    {
      "cell_type": "code",
      "metadata": {
        "id": "6x2d6EkG_-Qr",
        "colab": {
          "base_uri": "https://localhost:8080/"
        },
        "outputId": "4ef78f0e-a1b3-4170-90f5-7ea8edf6b120"
      },
      "source": [
        "maria.age"
      ],
      "execution_count": null,
      "outputs": [
        {
          "output_type": "execute_result",
          "data": {
            "text/plain": [
              "32"
            ]
          },
          "metadata": {
            "tags": []
          },
          "execution_count": 62
        }
      ]
    },
    {
      "cell_type": "code",
      "metadata": {
        "id": "FsH9Oplu_-Qr"
      },
      "source": [
        "class Person:\n",
        "    \n",
        "    def __init__(self, name, age):\n",
        "        self.name = name\n",
        "        self.age = age\n",
        "        \n",
        "    def hi(self):\n",
        "        print('¡Hola, ', self.name,'!')   "
      ],
      "execution_count": null,
      "outputs": []
    },
    {
      "cell_type": "code",
      "metadata": {
        "id": "AJmQ8usx_-Qs"
      },
      "source": [
        "juan = Person(\"Juan\", 21)"
      ],
      "execution_count": null,
      "outputs": []
    },
    {
      "cell_type": "code",
      "metadata": {
        "id": "3-mCXfT-_-Qs",
        "colab": {
          "base_uri": "https://localhost:8080/"
        },
        "outputId": "d006ce66-ec7f-4e84-a29e-ea38977703b0"
      },
      "source": [
        "juan.hi()"
      ],
      "execution_count": null,
      "outputs": [
        {
          "output_type": "stream",
          "text": [
            "¡Hola,  Juan !\n"
          ],
          "name": "stdout"
        }
      ]
    },
    {
      "cell_type": "markdown",
      "metadata": {
        "id": "ahcbvxRJaCAS"
      },
      "source": [
        "### Random"
      ]
    },
    {
      "cell_type": "code",
      "metadata": {
        "id": "R99K0qLSaCAb"
      },
      "source": [
        "np.random.seed(2)"
      ],
      "execution_count": null,
      "outputs": []
    },
    {
      "cell_type": "code",
      "metadata": {
        "id": "weLp7MbbaCAk",
        "colab": {
          "base_uri": "https://localhost:8080/"
        },
        "outputId": "704d6d5d-556e-4bd3-cdab-c3d3487dde49"
      },
      "source": [
        "np.random.random()"
      ],
      "execution_count": null,
      "outputs": [
        {
          "output_type": "execute_result",
          "data": {
            "text/plain": [
              "0.43599490214200376"
            ]
          },
          "metadata": {
            "tags": []
          },
          "execution_count": 67
        }
      ]
    },
    {
      "cell_type": "code",
      "metadata": {
        "id": "8garWJ-kaCAw",
        "colab": {
          "base_uri": "https://localhost:8080/"
        },
        "outputId": "254cf0c6-1023-4000-b2f3-2d4ee8cc1010"
      },
      "source": [
        "np.random.random(10)"
      ],
      "execution_count": null,
      "outputs": [
        {
          "output_type": "execute_result",
          "data": {
            "text/plain": [
              "array([0.02592623, 0.54966248, 0.43532239, 0.4203678 , 0.33033482,\n",
              "       0.20464863, 0.61927097, 0.29965467, 0.26682728, 0.62113383])"
            ]
          },
          "metadata": {
            "tags": []
          },
          "execution_count": 68
        }
      ]
    },
    {
      "cell_type": "code",
      "metadata": {
        "id": "qTShWT8SaCA9",
        "colab": {
          "base_uri": "https://localhost:8080/"
        },
        "outputId": "3c15d9a3-cbdd-4ada-cae9-8b8053492e76"
      },
      "source": [
        "np.random.normal(0, 20, 2)"
      ],
      "execution_count": null,
      "outputs": [
        {
          "output_type": "execute_result",
          "data": {
            "text/plain": [
              "array([-22.21455512,   1.77160134])"
            ]
          },
          "metadata": {
            "tags": []
          },
          "execution_count": 69
        }
      ]
    },
    {
      "cell_type": "markdown",
      "metadata": {
        "id": "jEroalqP_-Qs"
      },
      "source": [
        "## Ejercicios"
      ]
    },
    {
      "cell_type": "code",
      "metadata": {
        "id": "xWes1J3i_-Qs"
      },
      "source": [
        "# Usando un loop crear una lista con los números enteros entre 0 y 100 (tip: usar range())\n",
        "list = []\n",
        "for i in range(0,101):\n",
        "    list.append(i)"
      ],
      "execution_count": null,
      "outputs": []
    },
    {
      "cell_type": "code",
      "metadata": {
        "id": "zQoJ0MXSCY8e"
      },
      "source": [
        "# Crear una lista con la cantidad de ceros que uno desee:\n",
        "def zerolistmaker(n):\n",
        "    listofzeros = [0] * n\n",
        "    return listofzeros\n"
      ],
      "execution_count": null,
      "outputs": []
    },
    {
      "cell_type": "code",
      "metadata": {
        "colab": {
          "base_uri": "https://localhost:8080/"
        },
        "id": "BnM2Z_f_Ccn0",
        "outputId": "18b8f83a-98e5-4805-8cb0-19928da378e3"
      },
      "source": [
        "lista_ceros = zerolistmaker(7)\n",
        "lista_ceros"
      ],
      "execution_count": null,
      "outputs": [
        {
          "output_type": "execute_result",
          "data": {
            "text/plain": [
              "[0, 0, 0, 0, 0, 0, 0]"
            ]
          },
          "metadata": {
            "tags": []
          },
          "execution_count": 125
        }
      ]
    },
    {
      "cell_type": "code",
      "metadata": {
        "id": "tbw7dWQx_-Qs",
        "colab": {
          "base_uri": "https://localhost:8080/"
        },
        "outputId": "cb73b125-4c26-45a6-9be4-50c4ba7c1adb"
      },
      "source": [
        "# Seleccionar los elementos 20 a 30\n",
        "list[19:30]"
      ],
      "execution_count": null,
      "outputs": [
        {
          "output_type": "execute_result",
          "data": {
            "text/plain": [
              "[19, 20, 21, 22, 23, 24, 25, 26, 27, 28, 29]"
            ]
          },
          "metadata": {
            "tags": []
          },
          "execution_count": 71
        }
      ]
    },
    {
      "cell_type": "code",
      "metadata": {
        "id": "9CZWIPCV_-Qt",
        "colab": {
          "base_uri": "https://localhost:8080/"
        },
        "outputId": "0b4a15aa-19bb-4fce-c82c-4c3ecae010e3"
      },
      "source": [
        "# Seleccionar de la lista solo los elementos multiplos de 10\n",
        "list[::10]"
      ],
      "execution_count": null,
      "outputs": [
        {
          "output_type": "execute_result",
          "data": {
            "text/plain": [
              "[0, 10, 20, 30, 40, 50, 60, 70, 80, 90, 100]"
            ]
          },
          "metadata": {
            "tags": []
          },
          "execution_count": 72
        }
      ]
    },
    {
      "cell_type": "code",
      "metadata": {
        "id": "JWQpqTcs_-Qt",
        "colab": {
          "base_uri": "https://localhost:8080/"
        },
        "outputId": "e52dc4f5-3fa4-419a-bfa8-e269a273bba7"
      },
      "source": [
        "# Seleccionar los últimos 5 elementos de la lista\n",
        "list[-5:]"
      ],
      "execution_count": null,
      "outputs": [
        {
          "output_type": "execute_result",
          "data": {
            "text/plain": [
              "[96, 97, 98, 99, 100]"
            ]
          },
          "metadata": {
            "tags": []
          },
          "execution_count": 73
        }
      ]
    },
    {
      "cell_type": "code",
      "metadata": {
        "id": "3xZMyF8e_-Qt"
      },
      "source": [
        "# Crear una función que devuelva la diferencia entre el número mayor y el menor, ejemplo dif(2,5)=3 y dif(5,2)=3\n",
        "def dif(a,b):\n",
        "  if(a > b):\n",
        "    result = a-b\n",
        "  else:\n",
        "    result = b-a\n",
        "  return result"
      ],
      "execution_count": null,
      "outputs": []
    },
    {
      "cell_type": "code",
      "metadata": {
        "id": "_mR_xK22prhG"
      },
      "source": [
        ""
      ],
      "execution_count": null,
      "outputs": []
    },
    {
      "cell_type": "code",
      "metadata": {
        "colab": {
          "resources": {
            "http://localhost:8080/nbextensions/google.colab/files.js": {
              "data": "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",
              "ok": true,
              "headers": [
                [
                  "content-type",
                  "application/javascript"
                ]
              ],
              "status": 200,
              "status_text": ""
            }
          },
          "base_uri": "https://localhost:8080/",
          "height": 38
        },
        "id": "lJoQJFDWprj4",
        "outputId": "a402921e-67e1-430d-c252-b5d3b9f8699e"
      },
      "source": [
        "# Subir un archivo local a Google Colab\n",
        "\n",
        "# Tambien podemos subir archivos directamente desde un repositorio (primero deberemos hacer un \"clone\" del mismo)\n",
        "\n",
        "from google.colab import files \n",
        "  \n",
        "  \n",
        "uploaded = files.upload()"
      ],
      "execution_count": null,
      "outputs": [
        {
          "output_type": "display_data",
          "data": {
            "text/html": [
              "\n",
              "     <input type=\"file\" id=\"files-68a76a8d-e578-4061-ae56-6c31f3192102\" name=\"files[]\" multiple disabled\n",
              "        style=\"border:none\" />\n",
              "     <output id=\"result-68a76a8d-e578-4061-ae56-6c31f3192102\">\n",
              "      Upload widget is only available when the cell has been executed in the\n",
              "      current browser session. Please rerun this cell to enable.\n",
              "      </output>\n",
              "      <script src=\"/nbextensions/google.colab/files.js\"></script> "
            ],
            "text/plain": [
              "<IPython.core.display.HTML object>"
            ]
          },
          "metadata": {
            "tags": []
          }
        }
      ]
    },
    {
      "cell_type": "code",
      "metadata": {
        "colab": {
          "base_uri": "https://localhost:8080/",
          "height": 417
        },
        "id": "yxyLnPi4prnN",
        "outputId": "7c3cf523-d421-4ca7-fc8c-fa9b471e3e11"
      },
      "source": [
        "# Levantar un archivo csv\n",
        "\n",
        "import pandas as pd\n",
        "\n",
        "consumo = pd.read_csv('consumo.csv', sep=',')\n",
        "consumo"
      ],
      "execution_count": null,
      "outputs": [
        {
          "output_type": "execute_result",
          "data": {
            "text/html": [
              "<div>\n",
              "<style scoped>\n",
              "    .dataframe tbody tr th:only-of-type {\n",
              "        vertical-align: middle;\n",
              "    }\n",
              "\n",
              "    .dataframe tbody tr th {\n",
              "        vertical-align: top;\n",
              "    }\n",
              "\n",
              "    .dataframe thead th {\n",
              "        text-align: right;\n",
              "    }\n",
              "</style>\n",
              "<table border=\"1\" class=\"dataframe\">\n",
              "  <thead>\n",
              "    <tr style=\"text-align: right;\">\n",
              "      <th></th>\n",
              "      <th>fecha</th>\n",
              "      <th>consumo_miles_m3</th>\n",
              "    </tr>\n",
              "  </thead>\n",
              "  <tbody>\n",
              "    <tr>\n",
              "      <th>0</th>\n",
              "      <td>2010/01</td>\n",
              "      <td>68.874</td>\n",
              "    </tr>\n",
              "    <tr>\n",
              "      <th>1</th>\n",
              "      <td>2010/02</td>\n",
              "      <td>60.128</td>\n",
              "    </tr>\n",
              "    <tr>\n",
              "      <th>2</th>\n",
              "      <td>2010/03</td>\n",
              "      <td>84.494</td>\n",
              "    </tr>\n",
              "    <tr>\n",
              "      <th>3</th>\n",
              "      <td>2010/04</td>\n",
              "      <td>79.147</td>\n",
              "    </tr>\n",
              "    <tr>\n",
              "      <th>4</th>\n",
              "      <td>2010/05</td>\n",
              "      <td>72.691</td>\n",
              "    </tr>\n",
              "    <tr>\n",
              "      <th>...</th>\n",
              "      <td>...</td>\n",
              "      <td>...</td>\n",
              "    </tr>\n",
              "    <tr>\n",
              "      <th>127</th>\n",
              "      <td>2020/08</td>\n",
              "      <td>70.691</td>\n",
              "    </tr>\n",
              "    <tr>\n",
              "      <th>128</th>\n",
              "      <td>2020/09</td>\n",
              "      <td>73.769</td>\n",
              "    </tr>\n",
              "    <tr>\n",
              "      <th>129</th>\n",
              "      <td>2020/10</td>\n",
              "      <td>81.305</td>\n",
              "    </tr>\n",
              "    <tr>\n",
              "      <th>130</th>\n",
              "      <td>2020/11</td>\n",
              "      <td>85.335</td>\n",
              "    </tr>\n",
              "    <tr>\n",
              "      <th>131</th>\n",
              "      <td>2020/12</td>\n",
              "      <td>79.887</td>\n",
              "    </tr>\n",
              "  </tbody>\n",
              "</table>\n",
              "<p>132 rows × 2 columns</p>\n",
              "</div>"
            ],
            "text/plain": [
              "       fecha  consumo_miles_m3\n",
              "0    2010/01            68.874\n",
              "1    2010/02            60.128\n",
              "2    2010/03            84.494\n",
              "3    2010/04            79.147\n",
              "4    2010/05            72.691\n",
              "..       ...               ...\n",
              "127  2020/08            70.691\n",
              "128  2020/09            73.769\n",
              "129  2020/10            81.305\n",
              "130  2020/11            85.335\n",
              "131  2020/12            79.887\n",
              "\n",
              "[132 rows x 2 columns]"
            ]
          },
          "metadata": {
            "tags": []
          },
          "execution_count": 6
        }
      ]
    },
    {
      "cell_type": "code",
      "metadata": {
        "colab": {
          "base_uri": "https://localhost:8080/",
          "height": 49
        },
        "id": "qFS0ocwSvOQR",
        "outputId": "a86fea4b-75fa-4f3f-aafa-2fad46f8c9b6"
      },
      "source": [
        "# Tambien podemos declarar un Data Frame vacio:\n",
        "consumo_vacio = pd.DataFrame(columns=('Fecha', 'consumo_miles_m3'))\n",
        "consumo_vacio"
      ],
      "execution_count": null,
      "outputs": [
        {
          "output_type": "execute_result",
          "data": {
            "text/html": [
              "<div>\n",
              "<style scoped>\n",
              "    .dataframe tbody tr th:only-of-type {\n",
              "        vertical-align: middle;\n",
              "    }\n",
              "\n",
              "    .dataframe tbody tr th {\n",
              "        vertical-align: top;\n",
              "    }\n",
              "\n",
              "    .dataframe thead th {\n",
              "        text-align: right;\n",
              "    }\n",
              "</style>\n",
              "<table border=\"1\" class=\"dataframe\">\n",
              "  <thead>\n",
              "    <tr style=\"text-align: right;\">\n",
              "      <th></th>\n",
              "      <th>Fecha</th>\n",
              "      <th>consumo_miles_m3</th>\n",
              "    </tr>\n",
              "  </thead>\n",
              "  <tbody>\n",
              "  </tbody>\n",
              "</table>\n",
              "</div>"
            ],
            "text/plain": [
              "Empty DataFrame\n",
              "Columns: [Fecha, consumo_miles_m3]\n",
              "Index: []"
            ]
          },
          "metadata": {
            "tags": []
          },
          "execution_count": 9
        }
      ]
    },
    {
      "cell_type": "code",
      "metadata": {
        "colab": {
          "base_uri": "https://localhost:8080/"
        },
        "id": "tziuAUD6prpK",
        "outputId": "9d7d7fd3-0b56-43ea-98d8-747e1b748943"
      },
      "source": [
        "type(consumo)"
      ],
      "execution_count": null,
      "outputs": [
        {
          "output_type": "execute_result",
          "data": {
            "text/plain": [
              "pandas.core.frame.DataFrame"
            ]
          },
          "metadata": {
            "tags": []
          },
          "execution_count": 10
        }
      ]
    },
    {
      "cell_type": "code",
      "metadata": {
        "colab": {
          "base_uri": "https://localhost:8080/"
        },
        "id": "jJyQuzhCqfiJ",
        "outputId": "ab53c0c8-f484-4892-a8f0-2e0308f8c8d5"
      },
      "source": [
        "# Visualizar columnas de un dataframe\n",
        "df_aux = consumo\n",
        "df_aux.columns"
      ],
      "execution_count": null,
      "outputs": [
        {
          "output_type": "execute_result",
          "data": {
            "text/plain": [
              "Index(['fecha', 'consumo_miles_m3'], dtype='object')"
            ]
          },
          "metadata": {
            "tags": []
          },
          "execution_count": 11
        }
      ]
    },
    {
      "cell_type": "code",
      "metadata": {
        "colab": {
          "base_uri": "https://localhost:8080/"
        },
        "id": "_r2knAcYqflc",
        "outputId": "95b4990b-4822-4bf5-d04e-a92de2f40a42"
      },
      "source": [
        "# Renombrar columnas de un dataframe\n",
        "df_aux.columns = ['Fecha', 'consumo_gasoil']\n",
        "df_aux.columns"
      ],
      "execution_count": null,
      "outputs": [
        {
          "output_type": "execute_result",
          "data": {
            "text/plain": [
              "Index(['Fecha', 'consumo_gasoil'], dtype='object')"
            ]
          },
          "metadata": {
            "tags": []
          },
          "execution_count": 12
        }
      ]
    },
    {
      "cell_type": "code",
      "metadata": {
        "colab": {
          "base_uri": "https://localhost:8080/",
          "height": 35
        },
        "id": "C0RiHXJQqfnY",
        "outputId": "65ba9dff-30b7-4883-f3af-290a4d8ff7a5"
      },
      "source": [
        "# Seleccionamos valor de una fila/ columna\n",
        "df_aux.iloc[1]['Fecha']"
      ],
      "execution_count": null,
      "outputs": [
        {
          "output_type": "execute_result",
          "data": {
            "application/vnd.google.colaboratory.intrinsic+json": {
              "type": "string"
            },
            "text/plain": [
              "'2010/02'"
            ]
          },
          "metadata": {
            "tags": []
          },
          "execution_count": 13
        }
      ]
    },
    {
      "cell_type": "code",
      "metadata": {
        "colab": {
          "base_uri": "https://localhost:8080/"
        },
        "id": "QAhKLlviqfqA",
        "outputId": "571181e2-94a8-4485-d3fa-e74307a0ccf2"
      },
      "source": [
        "df_aux.iloc[0]['consumo_gasoil']"
      ],
      "execution_count": null,
      "outputs": [
        {
          "output_type": "execute_result",
          "data": {
            "text/plain": [
              "68.874"
            ]
          },
          "metadata": {
            "tags": []
          },
          "execution_count": 14
        }
      ]
    },
    {
      "cell_type": "code",
      "metadata": {
        "colab": {
          "base_uri": "https://localhost:8080/",
          "height": 417
        },
        "id": "Xh0FGZkRvKjk",
        "outputId": "6c9c16e0-8a06-4d12-c29b-44a813ef769c"
      },
      "source": [
        "# Eliminar columnas de un dataframe:\n",
        "df_aux_cortado = df_aux.drop(columns=['Fecha'])\n",
        "df_aux_cortado"
      ],
      "execution_count": null,
      "outputs": [
        {
          "output_type": "execute_result",
          "data": {
            "text/html": [
              "<div>\n",
              "<style scoped>\n",
              "    .dataframe tbody tr th:only-of-type {\n",
              "        vertical-align: middle;\n",
              "    }\n",
              "\n",
              "    .dataframe tbody tr th {\n",
              "        vertical-align: top;\n",
              "    }\n",
              "\n",
              "    .dataframe thead th {\n",
              "        text-align: right;\n",
              "    }\n",
              "</style>\n",
              "<table border=\"1\" class=\"dataframe\">\n",
              "  <thead>\n",
              "    <tr style=\"text-align: right;\">\n",
              "      <th></th>\n",
              "      <th>consumo_gasoil</th>\n",
              "    </tr>\n",
              "  </thead>\n",
              "  <tbody>\n",
              "    <tr>\n",
              "      <th>0</th>\n",
              "      <td>68.874</td>\n",
              "    </tr>\n",
              "    <tr>\n",
              "      <th>1</th>\n",
              "      <td>60.128</td>\n",
              "    </tr>\n",
              "    <tr>\n",
              "      <th>2</th>\n",
              "      <td>84.494</td>\n",
              "    </tr>\n",
              "    <tr>\n",
              "      <th>3</th>\n",
              "      <td>79.147</td>\n",
              "    </tr>\n",
              "    <tr>\n",
              "      <th>4</th>\n",
              "      <td>72.691</td>\n",
              "    </tr>\n",
              "    <tr>\n",
              "      <th>...</th>\n",
              "      <td>...</td>\n",
              "    </tr>\n",
              "    <tr>\n",
              "      <th>127</th>\n",
              "      <td>70.691</td>\n",
              "    </tr>\n",
              "    <tr>\n",
              "      <th>128</th>\n",
              "      <td>73.769</td>\n",
              "    </tr>\n",
              "    <tr>\n",
              "      <th>129</th>\n",
              "      <td>81.305</td>\n",
              "    </tr>\n",
              "    <tr>\n",
              "      <th>130</th>\n",
              "      <td>85.335</td>\n",
              "    </tr>\n",
              "    <tr>\n",
              "      <th>131</th>\n",
              "      <td>79.887</td>\n",
              "    </tr>\n",
              "  </tbody>\n",
              "</table>\n",
              "<p>132 rows × 1 columns</p>\n",
              "</div>"
            ],
            "text/plain": [
              "     consumo_gasoil\n",
              "0            68.874\n",
              "1            60.128\n",
              "2            84.494\n",
              "3            79.147\n",
              "4            72.691\n",
              "..              ...\n",
              "127          70.691\n",
              "128          73.769\n",
              "129          81.305\n",
              "130          85.335\n",
              "131          79.887\n",
              "\n",
              "[132 rows x 1 columns]"
            ]
          },
          "metadata": {
            "tags": []
          },
          "execution_count": 15
        }
      ]
    },
    {
      "cell_type": "code",
      "metadata": {
        "colab": {
          "base_uri": "https://localhost:8080/",
          "height": 417
        },
        "id": "K05FCLOdwvAH",
        "outputId": "7255b159-b533-40bf-c2cd-d21ac8df6253"
      },
      "source": [
        "# Agregado de una columna a un dataframe:\n",
        "\n",
        "df_aux_cortado['Fecha']= consumo['Fecha']\n",
        "df_aux_cortado"
      ],
      "execution_count": null,
      "outputs": [
        {
          "output_type": "execute_result",
          "data": {
            "text/html": [
              "<div>\n",
              "<style scoped>\n",
              "    .dataframe tbody tr th:only-of-type {\n",
              "        vertical-align: middle;\n",
              "    }\n",
              "\n",
              "    .dataframe tbody tr th {\n",
              "        vertical-align: top;\n",
              "    }\n",
              "\n",
              "    .dataframe thead th {\n",
              "        text-align: right;\n",
              "    }\n",
              "</style>\n",
              "<table border=\"1\" class=\"dataframe\">\n",
              "  <thead>\n",
              "    <tr style=\"text-align: right;\">\n",
              "      <th></th>\n",
              "      <th>consumo_gasoil</th>\n",
              "      <th>Fecha</th>\n",
              "    </tr>\n",
              "  </thead>\n",
              "  <tbody>\n",
              "    <tr>\n",
              "      <th>0</th>\n",
              "      <td>68.874</td>\n",
              "      <td>2010/01</td>\n",
              "    </tr>\n",
              "    <tr>\n",
              "      <th>1</th>\n",
              "      <td>60.128</td>\n",
              "      <td>2010/02</td>\n",
              "    </tr>\n",
              "    <tr>\n",
              "      <th>2</th>\n",
              "      <td>84.494</td>\n",
              "      <td>2010/03</td>\n",
              "    </tr>\n",
              "    <tr>\n",
              "      <th>3</th>\n",
              "      <td>79.147</td>\n",
              "      <td>2010/04</td>\n",
              "    </tr>\n",
              "    <tr>\n",
              "      <th>4</th>\n",
              "      <td>72.691</td>\n",
              "      <td>2010/05</td>\n",
              "    </tr>\n",
              "    <tr>\n",
              "      <th>...</th>\n",
              "      <td>...</td>\n",
              "      <td>...</td>\n",
              "    </tr>\n",
              "    <tr>\n",
              "      <th>127</th>\n",
              "      <td>70.691</td>\n",
              "      <td>2020/08</td>\n",
              "    </tr>\n",
              "    <tr>\n",
              "      <th>128</th>\n",
              "      <td>73.769</td>\n",
              "      <td>2020/09</td>\n",
              "    </tr>\n",
              "    <tr>\n",
              "      <th>129</th>\n",
              "      <td>81.305</td>\n",
              "      <td>2020/10</td>\n",
              "    </tr>\n",
              "    <tr>\n",
              "      <th>130</th>\n",
              "      <td>85.335</td>\n",
              "      <td>2020/11</td>\n",
              "    </tr>\n",
              "    <tr>\n",
              "      <th>131</th>\n",
              "      <td>79.887</td>\n",
              "      <td>2020/12</td>\n",
              "    </tr>\n",
              "  </tbody>\n",
              "</table>\n",
              "<p>132 rows × 2 columns</p>\n",
              "</div>"
            ],
            "text/plain": [
              "     consumo_gasoil    Fecha\n",
              "0            68.874  2010/01\n",
              "1            60.128  2010/02\n",
              "2            84.494  2010/03\n",
              "3            79.147  2010/04\n",
              "4            72.691  2010/05\n",
              "..              ...      ...\n",
              "127          70.691  2020/08\n",
              "128          73.769  2020/09\n",
              "129          81.305  2020/10\n",
              "130          85.335  2020/11\n",
              "131          79.887  2020/12\n",
              "\n",
              "[132 rows x 2 columns]"
            ]
          },
          "metadata": {
            "tags": []
          },
          "execution_count": 16
        }
      ]
    },
    {
      "cell_type": "code",
      "metadata": {
        "colab": {
          "base_uri": "https://localhost:8080/",
          "height": 417
        },
        "id": "8J73iKp5vKmC",
        "outputId": "39db4e47-d4c5-41cd-8710-b1c9664e3cab"
      },
      "source": [
        "# Eliminar filas por indice de un dataframe\n",
        "df_aux_cortado = df_aux_cortado.drop([131], axis = 0)\n",
        "df_aux_cortado"
      ],
      "execution_count": null,
      "outputs": [
        {
          "output_type": "execute_result",
          "data": {
            "text/html": [
              "<div>\n",
              "<style scoped>\n",
              "    .dataframe tbody tr th:only-of-type {\n",
              "        vertical-align: middle;\n",
              "    }\n",
              "\n",
              "    .dataframe tbody tr th {\n",
              "        vertical-align: top;\n",
              "    }\n",
              "\n",
              "    .dataframe thead th {\n",
              "        text-align: right;\n",
              "    }\n",
              "</style>\n",
              "<table border=\"1\" class=\"dataframe\">\n",
              "  <thead>\n",
              "    <tr style=\"text-align: right;\">\n",
              "      <th></th>\n",
              "      <th>consumo_gasoil</th>\n",
              "      <th>Fecha</th>\n",
              "    </tr>\n",
              "  </thead>\n",
              "  <tbody>\n",
              "    <tr>\n",
              "      <th>0</th>\n",
              "      <td>68.874</td>\n",
              "      <td>2010/01</td>\n",
              "    </tr>\n",
              "    <tr>\n",
              "      <th>1</th>\n",
              "      <td>60.128</td>\n",
              "      <td>2010/02</td>\n",
              "    </tr>\n",
              "    <tr>\n",
              "      <th>2</th>\n",
              "      <td>84.494</td>\n",
              "      <td>2010/03</td>\n",
              "    </tr>\n",
              "    <tr>\n",
              "      <th>3</th>\n",
              "      <td>79.147</td>\n",
              "      <td>2010/04</td>\n",
              "    </tr>\n",
              "    <tr>\n",
              "      <th>4</th>\n",
              "      <td>72.691</td>\n",
              "      <td>2010/05</td>\n",
              "    </tr>\n",
              "    <tr>\n",
              "      <th>...</th>\n",
              "      <td>...</td>\n",
              "      <td>...</td>\n",
              "    </tr>\n",
              "    <tr>\n",
              "      <th>126</th>\n",
              "      <td>72.149</td>\n",
              "      <td>2020/07</td>\n",
              "    </tr>\n",
              "    <tr>\n",
              "      <th>127</th>\n",
              "      <td>70.691</td>\n",
              "      <td>2020/08</td>\n",
              "    </tr>\n",
              "    <tr>\n",
              "      <th>128</th>\n",
              "      <td>73.769</td>\n",
              "      <td>2020/09</td>\n",
              "    </tr>\n",
              "    <tr>\n",
              "      <th>129</th>\n",
              "      <td>81.305</td>\n",
              "      <td>2020/10</td>\n",
              "    </tr>\n",
              "    <tr>\n",
              "      <th>130</th>\n",
              "      <td>85.335</td>\n",
              "      <td>2020/11</td>\n",
              "    </tr>\n",
              "  </tbody>\n",
              "</table>\n",
              "<p>131 rows × 2 columns</p>\n",
              "</div>"
            ],
            "text/plain": [
              "     consumo_gasoil    Fecha\n",
              "0            68.874  2010/01\n",
              "1            60.128  2010/02\n",
              "2            84.494  2010/03\n",
              "3            79.147  2010/04\n",
              "4            72.691  2010/05\n",
              "..              ...      ...\n",
              "126          72.149  2020/07\n",
              "127          70.691  2020/08\n",
              "128          73.769  2020/09\n",
              "129          81.305  2020/10\n",
              "130          85.335  2020/11\n",
              "\n",
              "[131 rows x 2 columns]"
            ]
          },
          "metadata": {
            "tags": []
          },
          "execution_count": 17
        }
      ]
    },
    {
      "cell_type": "code",
      "metadata": {
        "id": "XtUFPVomvKtu",
        "colab": {
          "base_uri": "https://localhost:8080/"
        },
        "outputId": "c360fc12-300c-4abb-b441-c5ff9d3a62e5"
      },
      "source": [
        "# Recorrer un data frame\n",
        "# Pasamos los elementos de la columna \"consumo_gasoil\" a una lista\n",
        "l_aux = []\n",
        "for i in range(0,len(df_aux_cortado)):\n",
        "  l_aux.append(df_aux_cortado.iloc[i]['consumo_gasoil'])\n",
        "l_aux"
      ],
      "execution_count": null,
      "outputs": [
        {
          "output_type": "execute_result",
          "data": {
            "text/plain": [
              "[68.874,\n",
              " 60.128,\n",
              " 84.494,\n",
              " 79.14699999999999,\n",
              " 72.691,\n",
              " 69.217,\n",
              " 66.817,\n",
              " 71.637,\n",
              " 70.391,\n",
              " 83.131,\n",
              " 78.393,\n",
              " 83.81,\n",
              " 62.861000000000004,\n",
              " 68.118,\n",
              " 79.468,\n",
              " 81.208,\n",
              " 80.52,\n",
              " 69.411,\n",
              " 65.623,\n",
              " 69.487,\n",
              " 79.105,\n",
              " 72.27600000000001,\n",
              " 90.184,\n",
              " 82.524,\n",
              " 65.557,\n",
              " 68.499,\n",
              " 76.23,\n",
              " 79.642,\n",
              " 81.502,\n",
              " 69.39699999999999,\n",
              " 69.828,\n",
              " 63.321000000000005,\n",
              " 70.775,\n",
              " 70.809,\n",
              " 91.948,\n",
              " 68.126,\n",
              " 66.421,\n",
              " 60.778,\n",
              " 72.404,\n",
              " 89.36,\n",
              " 77.861,\n",
              " 75.23899999999999,\n",
              " 68.96600000000001,\n",
              " 74.988,\n",
              " 62.599,\n",
              " 84.244,\n",
              " 75.171,\n",
              " 86.15299999999999,\n",
              " 59.339,\n",
              " 57.193999999999996,\n",
              " 72.207,\n",
              " 89.31,\n",
              " 76.066,\n",
              " 73.352,\n",
              " 69.027,\n",
              " 73.314,\n",
              " 73.187,\n",
              " 78.393,\n",
              " 77.61399999999999,\n",
              " 76.118,\n",
              " 63.525,\n",
              " 66.11399999999999,\n",
              " 81.84,\n",
              " 94.411,\n",
              " 72.21600000000001,\n",
              " 73.396,\n",
              " 69.015,\n",
              " 54.216,\n",
              " 68.598,\n",
              " 75.792,\n",
              " 77.12100000000001,\n",
              " 73.694,\n",
              " 58.508,\n",
              " 64.067,\n",
              " 71.292,\n",
              " 63.507,\n",
              " 92.671,\n",
              " 75.593,\n",
              " 60.075,\n",
              " 75.48899999999999,\n",
              " 72.919,\n",
              " 72.078,\n",
              " 87.139,\n",
              " 83.367,\n",
              " 57.049,\n",
              " 61.48,\n",
              " 85.29799999999999,\n",
              " 79.316,\n",
              " 76.51,\n",
              " 78.722,\n",
              " 65.008,\n",
              " 67.392,\n",
              " 67.824,\n",
              " 82.97200000000001,\n",
              " 92.37,\n",
              " 83.037,\n",
              " 61.403999999999996,\n",
              " 65.268,\n",
              " 77.342,\n",
              " 76.70100000000001,\n",
              " 83.383,\n",
              " 72.094,\n",
              " 60.169,\n",
              " 72.907,\n",
              " 68.89399999999999,\n",
              " 85.93,\n",
              " 86.29299999999999,\n",
              " 71.868,\n",
              " 63.058,\n",
              " 70.158,\n",
              " 78.29899999999999,\n",
              " 87.609,\n",
              " 83.139,\n",
              " 63.755,\n",
              " 72.324,\n",
              " 75.045,\n",
              " 73.492,\n",
              " 72.378,\n",
              " 89.456,\n",
              " 77.86399999999999,\n",
              " 67.645,\n",
              " 68.607,\n",
              " 72.908,\n",
              " 72.005,\n",
              " 74.082,\n",
              " 66.408,\n",
              " 72.149,\n",
              " 70.691,\n",
              " 73.76899999999999,\n",
              " 81.305,\n",
              " 85.335]"
            ]
          },
          "metadata": {
            "tags": []
          },
          "execution_count": 21
        }
      ]
    },
    {
      "cell_type": "code",
      "metadata": {
        "colab": {
          "base_uri": "https://localhost:8080/",
          "height": 142
        },
        "id": "kkJk-1cdvqng",
        "outputId": "d78b4044-d141-44ba-8725-1147c8263373"
      },
      "source": [
        "# Convertir una lista en un dataframe:\n",
        "lista = [1, 2, 3]\n",
        "\n",
        "df_list= pd.DataFrame(lista)\n",
        "df_list"
      ],
      "execution_count": null,
      "outputs": [
        {
          "output_type": "execute_result",
          "data": {
            "text/html": [
              "<div>\n",
              "<style scoped>\n",
              "    .dataframe tbody tr th:only-of-type {\n",
              "        vertical-align: middle;\n",
              "    }\n",
              "\n",
              "    .dataframe tbody tr th {\n",
              "        vertical-align: top;\n",
              "    }\n",
              "\n",
              "    .dataframe thead th {\n",
              "        text-align: right;\n",
              "    }\n",
              "</style>\n",
              "<table border=\"1\" class=\"dataframe\">\n",
              "  <thead>\n",
              "    <tr style=\"text-align: right;\">\n",
              "      <th></th>\n",
              "      <th>0</th>\n",
              "    </tr>\n",
              "  </thead>\n",
              "  <tbody>\n",
              "    <tr>\n",
              "      <th>0</th>\n",
              "      <td>1</td>\n",
              "    </tr>\n",
              "    <tr>\n",
              "      <th>1</th>\n",
              "      <td>2</td>\n",
              "    </tr>\n",
              "    <tr>\n",
              "      <th>2</th>\n",
              "      <td>3</td>\n",
              "    </tr>\n",
              "  </tbody>\n",
              "</table>\n",
              "</div>"
            ],
            "text/plain": [
              "   0\n",
              "0  1\n",
              "1  2\n",
              "2  3"
            ]
          },
          "metadata": {
            "tags": []
          },
          "execution_count": 18
        }
      ]
    },
    {
      "cell_type": "code",
      "metadata": {
        "id": "-tPQn8WCvKoc"
      },
      "source": [
        ""
      ],
      "execution_count": null,
      "outputs": []
    },
    {
      "cell_type": "code",
      "metadata": {
        "id": "1jbZpP4FvKq5"
      },
      "source": [
        ""
      ],
      "execution_count": null,
      "outputs": []
    },
    {
      "cell_type": "code",
      "metadata": {
        "id": "Q6kn-SLfvKwT"
      },
      "source": [
        ""
      ],
      "execution_count": null,
      "outputs": []
    },
    {
      "cell_type": "code",
      "metadata": {
        "colab": {
          "resources": {
            "http://localhost:8080/nbextensions/google.colab/files.js": {
              "data": "Ly8gQ29weXJpZ2h0IDIwMTcgR29vZ2xlIExMQwovLwovLyBMaWNlbnNlZCB1bmRlciB0aGUgQXBhY2hlIExpY2Vuc2UsIFZlcnNpb24gMi4wICh0aGUgIkxpY2Vuc2UiKTsKLy8geW91IG1heSBub3QgdXNlIHRoaXMgZmlsZSBleGNlcHQgaW4gY29tcGxpYW5jZSB3aXRoIHRoZSBMaWNlbnNlLgovLyBZb3UgbWF5IG9idGFpbiBhIGNvcHkgb2YgdGhlIExpY2Vuc2UgYXQKLy8KLy8gICAgICBodHRwOi8vd3d3LmFwYWNoZS5vcmcvbGljZW5zZXMvTElDRU5TRS0yLjAKLy8KLy8gVW5sZXNzIHJlcXVpcmVkIGJ5IGFwcGxpY2FibGUgbGF3IG9yIGFncmVlZCB0byBpbiB3cml0aW5nLCBzb2Z0d2FyZQovLyBkaXN0cmlidXRlZCB1bmRlciB0aGUgTGljZW5zZSBpcyBkaXN0cmlidXRlZCBvbiBhbiAiQVMgSVMiIEJBU0lTLAovLyBXSVRIT1VUIFdBUlJBTlRJRVMgT1IgQ09ORElUSU9OUyBPRiBBTlkgS0lORCwgZWl0aGVyIGV4cHJlc3Mgb3IgaW1wbGllZC4KLy8gU2VlIHRoZSBMaWNlbnNlIGZvciB0aGUgc3BlY2lmaWMgbGFuZ3VhZ2UgZ292ZXJuaW5nIHBlcm1pc3Npb25zIGFuZAovLyBsaW1pdGF0aW9ucyB1bmRlciB0aGUgTGljZW5zZS4KCi8qKgogKiBAZmlsZW92ZXJ2aWV3IEhlbHBlcnMgZm9yIGdvb2dsZS5jb2xhYiBQeXRob24gbW9kdWxlLgogKi8KKGZ1bmN0aW9uKHNjb3BlKSB7CmZ1bmN0aW9uIHNwYW4odGV4dCwgc3R5bGVBdHRyaWJ1dGVzID0ge30pIHsKICBjb25zdCBlbGVtZW50ID0gZG9jdW1lbnQuY3JlYXRlRWxlbWVudCgnc3BhbicpOwogIGVsZW1lbnQudGV4dENvbnRlbnQgPSB0ZXh0OwogIGZvciAoY29uc3Qga2V5IG9mIE9iamVjdC5rZXlzKHN0eWxlQXR0cmlidXRlcykpIHsKICAgIGVsZW1lbnQuc3R5bGVba2V5XSA9IHN0eWxlQXR0cmlidXRlc1trZXldOwogIH0KICByZXR1cm4gZWxlbWVudDsKfQoKLy8gTWF4IG51bWJlciBvZiBieXRlcyB3aGljaCB3aWxsIGJlIHVwbG9hZGVkIGF0IGEgdGltZS4KY29uc3QgTUFYX1BBWUxPQURfU0laRSA9IDEwMCAqIDEwMjQ7CgpmdW5jdGlvbiBfdXBsb2FkRmlsZXMoaW5wdXRJZCwgb3V0cHV0SWQpIHsKICBjb25zdCBzdGVwcyA9IHVwbG9hZEZpbGVzU3RlcChpbnB1dElkLCBvdXRwdXRJZCk7CiAgY29uc3Qgb3V0cHV0RWxlbWVudCA9IGRvY3VtZW50LmdldEVsZW1lbnRCeUlkKG91dHB1dElkKTsKICAvLyBDYWNoZSBzdGVwcyBvbiB0aGUgb3V0cHV0RWxlbWVudCB0byBtYWtlIGl0IGF2YWlsYWJsZSBmb3IgdGhlIG5leHQgY2FsbAogIC8vIHRvIHVwbG9hZEZpbGVzQ29udGludWUgZnJvbSBQeXRob24uCiAgb3V0cHV0RWxlbWVudC5zdGVwcyA9IHN0ZXBzOwoKICByZXR1cm4gX3VwbG9hZEZpbGVzQ29udGludWUob3V0cHV0SWQpOwp9CgovLyBUaGlzIGlzIHJvdWdobHkgYW4gYXN5bmMgZ2VuZXJhdG9yIChub3Qgc3VwcG9ydGVkIGluIHRoZSBicm93c2VyIHlldCksCi8vIHdoZXJlIHRoZXJlIGFyZSBtdWx0aXBsZSBhc3luY2hyb25vdXMgc3RlcHMgYW5kIHRoZSBQeXRob24gc2lkZSBpcyBnb2luZwovLyB0byBwb2xsIGZvciBjb21wbGV0aW9uIG9mIGVhY2ggc3RlcC4KLy8gVGhpcyB1c2VzIGEgUHJvbWlzZSB0byBibG9jayB0aGUgcHl0aG9uIHNpZGUgb24gY29tcGxldGlvbiBvZiBlYWNoIHN0ZXAsCi8vIHRoZW4gcGFzc2VzIHRoZSByZXN1bHQgb2YgdGhlIHByZXZpb3VzIHN0ZXAgYXMgdGhlIGlucHV0IHRvIHRoZSBuZXh0IHN0ZXAuCmZ1bmN0aW9uIF91cGxvYWRGaWxlc0NvbnRpbnVlKG91dHB1dElkKSB7CiAgY29uc3Qgb3V0cHV0RWxlbWVudCA9IGRvY3VtZW50LmdldEVsZW1lbnRCeUlkKG91dHB1dElkKTsKICBjb25zdCBzdGVwcyA9IG91dHB1dEVsZW1lbnQuc3RlcHM7CgogIGNvbnN0IG5leHQgPSBzdGVwcy5uZXh0KG91dHB1dEVsZW1lbnQubGFzdFByb21pc2VWYWx1ZSk7CiAgcmV0dXJuIFByb21pc2UucmVzb2x2ZShuZXh0LnZhbHVlLnByb21pc2UpLnRoZW4oKHZhbHVlKSA9PiB7CiAgICAvLyBDYWNoZSB0aGUgbGFzdCBwcm9taXNlIHZhbHVlIHRvIG1ha2UgaXQgYXZhaWxhYmxlIHRvIHRoZSBuZXh0CiAgICAvLyBzdGVwIG9mIHRoZSBnZW5lcmF0b3IuCiAgICBvdXRwdXRFbGVtZW50Lmxhc3RQcm9taXNlVmFsdWUgPSB2YWx1ZTsKICAgIHJldHVybiBuZXh0LnZhbHVlLnJlc3BvbnNlOwogIH0pOwp9CgovKioKICogR2VuZXJhdG9yIGZ1bmN0aW9uIHdoaWNoIGlzIGNhbGxlZCBiZXR3ZWVuIGVhY2ggYXN5bmMgc3RlcCBvZiB0aGUgdXBsb2FkCiAqIHByb2Nlc3MuCiAqIEBwYXJhbSB7c3RyaW5nfSBpbnB1dElkIEVsZW1lbnQgSUQgb2YgdGhlIGlucHV0IGZpbGUgcGlja2VyIGVsZW1lbnQuCiAqIEBwYXJhbSB7c3RyaW5nfSBvdXRwdXRJZCBFbGVtZW50IElEIG9mIHRoZSBvdXRwdXQgZGlzcGxheS4KICogQHJldHVybiB7IUl0ZXJhYmxlPCFPYmplY3Q+fSBJdGVyYWJsZSBvZiBuZXh0IHN0ZXBzLgogKi8KZnVuY3Rpb24qIHVwbG9hZEZpbGVzU3RlcChpbnB1dElkLCBvdXRwdXRJZCkgewogIGNvbnN0IGlucHV0RWxlbWVudCA9IGRvY3VtZW50LmdldEVsZW1lbnRCeUlkKGlucHV0SWQpOwogIGlucHV0RWxlbWVudC5kaXNhYmxlZCA9IGZhbHNlOwoKICBjb25zdCBvdXRwdXRFbGVtZW50ID0gZG9jdW1lbnQuZ2V0RWxlbWVudEJ5SWQob3V0cHV0SWQpOwogIG91dHB1dEVsZW1lbnQuaW5uZXJIVE1MID0gJyc7CgogIGNvbnN0IHBpY2tlZFByb21pc2UgPSBuZXcgUHJvbWlzZSgocmVzb2x2ZSkgPT4gewogICAgaW5wdXRFbGVtZW50LmFkZEV2ZW50TGlzdGVuZXIoJ2NoYW5nZScsIChlKSA9PiB7CiAgICAgIHJlc29sdmUoZS50YXJnZXQuZmlsZXMpOwogICAgfSk7CiAgfSk7CgogIGNvbnN0IGNhbmNlbCA9IGRvY3VtZW50LmNyZWF0ZUVsZW1lbnQoJ2J1dHRvbicpOwogIGlucHV0RWxlbWVudC5wYXJlbnRFbGVtZW50LmFwcGVuZENoaWxkKGNhbmNlbCk7CiAgY2FuY2VsLnRleHRDb250ZW50ID0gJ0NhbmNlbCB1cGxvYWQnOwogIGNvbnN0IGNhbmNlbFByb21pc2UgPSBuZXcgUHJvbWlzZSgocmVzb2x2ZSkgPT4gewogICAgY2FuY2VsLm9uY2xpY2sgPSAoKSA9PiB7CiAgICAgIHJlc29sdmUobnVsbCk7CiAgICB9OwogIH0pOwoKICAvLyBXYWl0IGZvciB0aGUgdXNlciB0byBwaWNrIHRoZSBmaWxlcy4KICBjb25zdCBmaWxlcyA9IHlpZWxkIHsKICAgIHByb21pc2U6IFByb21pc2UucmFjZShbcGlja2VkUHJvbWlzZSwgY2FuY2VsUHJvbWlzZV0pLAogICAgcmVzcG9uc2U6IHsKICAgICAgYWN0aW9uOiAnc3RhcnRpbmcnLAogICAgfQogIH07CgogIGNhbmNlbC5yZW1vdmUoKTsKCiAgLy8gRGlzYWJsZSB0aGUgaW5wdXQgZWxlbWVudCBzaW5jZSBmdXJ0aGVyIHBpY2tzIGFyZSBub3QgYWxsb3dlZC4KICBpbnB1dEVsZW1lbnQuZGlzYWJsZWQgPSB0cnVlOwoKICBpZiAoIWZpbGVzKSB7CiAgICByZXR1cm4gewogICAgICByZXNwb25zZTogewogICAgICAgIGFjdGlvbjogJ2NvbXBsZXRlJywKICAgICAgfQogICAgfTsKICB9CgogIGZvciAoY29uc3QgZmlsZSBvZiBmaWxlcykgewogICAgY29uc3QgbGkgPSBkb2N1bWVudC5jcmVhdGVFbGVtZW50KCdsaScpOwogICAgbGkuYXBwZW5kKHNwYW4oZmlsZS5uYW1lLCB7Zm9udFdlaWdodDogJ2JvbGQnfSkpOwogICAgbGkuYXBwZW5kKHNwYW4oCiAgICAgICAgYCgke2ZpbGUudHlwZSB8fCAnbi9hJ30pIC0gJHtmaWxlLnNpemV9IGJ5dGVzLCBgICsKICAgICAgICBgbGFzdCBtb2RpZmllZDogJHsKICAgICAgICAgICAgZmlsZS5sYXN0TW9kaWZpZWREYXRlID8gZmlsZS5sYXN0TW9kaWZpZWREYXRlLnRvTG9jYWxlRGF0ZVN0cmluZygpIDoKICAgICAgICAgICAgICAgICAgICAgICAgICAgICAgICAgICAgJ24vYSd9IC0gYCkpOwogICAgY29uc3QgcGVyY2VudCA9IHNwYW4oJzAlIGRvbmUnKTsKICAgIGxpLmFwcGVuZENoaWxkKHBlcmNlbnQpOwoKICAgIG91dHB1dEVsZW1lbnQuYXBwZW5kQ2hpbGQobGkpOwoKICAgIGNvbnN0IGZpbGVEYXRhUHJvbWlzZSA9IG5ldyBQcm9taXNlKChyZXNvbHZlKSA9PiB7CiAgICAgIGNvbnN0IHJlYWRlciA9IG5ldyBGaWxlUmVhZGVyKCk7CiAgICAgIHJlYWRlci5vbmxvYWQgPSAoZSkgPT4gewogICAgICAgIHJlc29sdmUoZS50YXJnZXQucmVzdWx0KTsKICAgICAgfTsKICAgICAgcmVhZGVyLnJlYWRBc0FycmF5QnVmZmVyKGZpbGUpOwogICAgfSk7CiAgICAvLyBXYWl0IGZvciB0aGUgZGF0YSB0byBiZSByZWFkeS4KICAgIGxldCBmaWxlRGF0YSA9IHlpZWxkIHsKICAgICAgcHJvbWlzZTogZmlsZURhdGFQcm9taXNlLAogICAgICByZXNwb25zZTogewogICAgICAgIGFjdGlvbjogJ2NvbnRpbnVlJywKICAgICAgfQogICAgfTsKCiAgICAvLyBVc2UgYSBjaHVua2VkIHNlbmRpbmcgdG8gYXZvaWQgbWVzc2FnZSBzaXplIGxpbWl0cy4gU2VlIGIvNjIxMTU2NjAuCiAgICBsZXQgcG9zaXRpb24gPSAwOwogICAgZG8gewogICAgICBjb25zdCBsZW5ndGggPSBNYXRoLm1pbihmaWxlRGF0YS5ieXRlTGVuZ3RoIC0gcG9zaXRpb24sIE1BWF9QQVlMT0FEX1NJWkUpOwogICAgICBjb25zdCBjaHVuayA9IG5ldyBVaW50OEFycmF5KGZpbGVEYXRhLCBwb3NpdGlvbiwgbGVuZ3RoKTsKICAgICAgcG9zaXRpb24gKz0gbGVuZ3RoOwoKICAgICAgY29uc3QgYmFzZTY0ID0gYnRvYShTdHJpbmcuZnJvbUNoYXJDb2RlLmFwcGx5KG51bGwsIGNodW5rKSk7CiAgICAgIHlpZWxkIHsKICAgICAgICByZXNwb25zZTogewogICAgICAgICAgYWN0aW9uOiAnYXBwZW5kJywKICAgICAgICAgIGZpbGU6IGZpbGUubmFtZSwKICAgICAgICAgIGRhdGE6IGJhc2U2NCwKICAgICAgICB9LAogICAgICB9OwoKICAgICAgbGV0IHBlcmNlbnREb25lID0gZmlsZURhdGEuYnl0ZUxlbmd0aCA9PT0gMCA/CiAgICAgICAgICAxMDAgOgogICAgICAgICAgTWF0aC5yb3VuZCgocG9zaXRpb24gLyBmaWxlRGF0YS5ieXRlTGVuZ3RoKSAqIDEwMCk7CiAgICAgIHBlcmNlbnQudGV4dENvbnRlbnQgPSBgJHtwZXJjZW50RG9uZX0lIGRvbmVgOwoKICAgIH0gd2hpbGUgKHBvc2l0aW9uIDwgZmlsZURhdGEuYnl0ZUxlbmd0aCk7CiAgfQoKICAvLyBBbGwgZG9uZS4KICB5aWVsZCB7CiAgICByZXNwb25zZTogewogICAgICBhY3Rpb246ICdjb21wbGV0ZScsCiAgICB9CiAgfTsKfQoKc2NvcGUuZ29vZ2xlID0gc2NvcGUuZ29vZ2xlIHx8IHt9OwpzY29wZS5nb29nbGUuY29sYWIgPSBzY29wZS5nb29nbGUuY29sYWIgfHwge307CnNjb3BlLmdvb2dsZS5jb2xhYi5fZmlsZXMgPSB7CiAgX3VwbG9hZEZpbGVzLAogIF91cGxvYWRGaWxlc0NvbnRpbnVlLAp9Owp9KShzZWxmKTsK",
              "ok": true,
              "headers": [
                [
                  "content-type",
                  "application/javascript"
                ]
              ],
              "status": 200,
              "status_text": ""
            }
          },
          "base_uri": "https://localhost:8080/",
          "height": 73
        },
        "id": "TytKECObtl_Y",
        "outputId": "ca7c2ed8-d6c0-4492-b7d9-521e7a686a70"
      },
      "source": [
        "# Subiremos un nuevo dataframe:\n",
        "\n",
        "uploaded = files.upload()"
      ],
      "execution_count": null,
      "outputs": [
        {
          "output_type": "display_data",
          "data": {
            "text/html": [
              "\n",
              "     <input type=\"file\" id=\"files-b1fa0fef-e579-4761-8663-b78dacfa8488\" name=\"files[]\" multiple disabled\n",
              "        style=\"border:none\" />\n",
              "     <output id=\"result-b1fa0fef-e579-4761-8663-b78dacfa8488\">\n",
              "      Upload widget is only available when the cell has been executed in the\n",
              "      current browser session. Please rerun this cell to enable.\n",
              "      </output>\n",
              "      <script src=\"/nbextensions/google.colab/files.js\"></script> "
            ],
            "text/plain": [
              "<IPython.core.display.HTML object>"
            ]
          },
          "metadata": {
            "tags": []
          }
        },
        {
          "output_type": "stream",
          "text": [
            "Saving dias_venta_teoricos.csv to dias_venta_teoricos.csv\n"
          ],
          "name": "stdout"
        }
      ]
    },
    {
      "cell_type": "code",
      "metadata": {
        "colab": {
          "base_uri": "https://localhost:8080/",
          "height": 417
        },
        "id": "eeOR06NDtmBr",
        "outputId": "68a45bc3-1235-4978-f486-203116d4fcc3"
      },
      "source": [
        "dv = pd.read_csv('dias_venta_teoricos.csv', sep=',')\n",
        "dv"
      ],
      "execution_count": null,
      "outputs": [
        {
          "output_type": "execute_result",
          "data": {
            "text/html": [
              "<div>\n",
              "<style scoped>\n",
              "    .dataframe tbody tr th:only-of-type {\n",
              "        vertical-align: middle;\n",
              "    }\n",
              "\n",
              "    .dataframe tbody tr th {\n",
              "        vertical-align: top;\n",
              "    }\n",
              "\n",
              "    .dataframe thead th {\n",
              "        text-align: right;\n",
              "    }\n",
              "</style>\n",
              "<table border=\"1\" class=\"dataframe\">\n",
              "  <thead>\n",
              "    <tr style=\"text-align: right;\">\n",
              "      <th></th>\n",
              "      <th>Dias de Venta</th>\n",
              "    </tr>\n",
              "  </thead>\n",
              "  <tbody>\n",
              "    <tr>\n",
              "      <th>0</th>\n",
              "      <td>23</td>\n",
              "    </tr>\n",
              "    <tr>\n",
              "      <th>1</th>\n",
              "      <td>20</td>\n",
              "    </tr>\n",
              "    <tr>\n",
              "      <th>2</th>\n",
              "      <td>21</td>\n",
              "    </tr>\n",
              "    <tr>\n",
              "      <th>3</th>\n",
              "      <td>22</td>\n",
              "    </tr>\n",
              "    <tr>\n",
              "      <th>4</th>\n",
              "      <td>23</td>\n",
              "    </tr>\n",
              "    <tr>\n",
              "      <th>...</th>\n",
              "      <td>...</td>\n",
              "    </tr>\n",
              "    <tr>\n",
              "      <th>127</th>\n",
              "      <td>23</td>\n",
              "    </tr>\n",
              "    <tr>\n",
              "      <th>128</th>\n",
              "      <td>20</td>\n",
              "    </tr>\n",
              "    <tr>\n",
              "      <th>129</th>\n",
              "      <td>23</td>\n",
              "    </tr>\n",
              "    <tr>\n",
              "      <th>130</th>\n",
              "      <td>22</td>\n",
              "    </tr>\n",
              "    <tr>\n",
              "      <th>131</th>\n",
              "      <td>21</td>\n",
              "    </tr>\n",
              "  </tbody>\n",
              "</table>\n",
              "<p>132 rows × 1 columns</p>\n",
              "</div>"
            ],
            "text/plain": [
              "     Dias de Venta\n",
              "0               23\n",
              "1               20\n",
              "2               21\n",
              "3               22\n",
              "4               23\n",
              "..             ...\n",
              "127             23\n",
              "128             20\n",
              "129             23\n",
              "130             22\n",
              "131             21\n",
              "\n",
              "[132 rows x 1 columns]"
            ]
          },
          "metadata": {
            "tags": []
          },
          "execution_count": 117
        }
      ]
    },
    {
      "cell_type": "code",
      "metadata": {
        "colab": {
          "base_uri": "https://localhost:8080/",
          "height": 417
        },
        "id": "Ek3Wt6dAtmEc",
        "outputId": "fe8665d8-98ef-43f1-ccf1-399a255b9ac4"
      },
      "source": [
        "# Concatenado de dataframes:\n",
        "\n",
        "df_total = pd.concat([df_aux, dv], axis = 1)\n",
        "df_total"
      ],
      "execution_count": null,
      "outputs": [
        {
          "output_type": "execute_result",
          "data": {
            "text/html": [
              "<div>\n",
              "<style scoped>\n",
              "    .dataframe tbody tr th:only-of-type {\n",
              "        vertical-align: middle;\n",
              "    }\n",
              "\n",
              "    .dataframe tbody tr th {\n",
              "        vertical-align: top;\n",
              "    }\n",
              "\n",
              "    .dataframe thead th {\n",
              "        text-align: right;\n",
              "    }\n",
              "</style>\n",
              "<table border=\"1\" class=\"dataframe\">\n",
              "  <thead>\n",
              "    <tr style=\"text-align: right;\">\n",
              "      <th></th>\n",
              "      <th>Fecha</th>\n",
              "      <th>consumo_gasoil</th>\n",
              "      <th>Dias de Venta</th>\n",
              "    </tr>\n",
              "  </thead>\n",
              "  <tbody>\n",
              "    <tr>\n",
              "      <th>0</th>\n",
              "      <td>2010/01</td>\n",
              "      <td>68.874</td>\n",
              "      <td>23</td>\n",
              "    </tr>\n",
              "    <tr>\n",
              "      <th>1</th>\n",
              "      <td>2010/02</td>\n",
              "      <td>60.128</td>\n",
              "      <td>20</td>\n",
              "    </tr>\n",
              "    <tr>\n",
              "      <th>2</th>\n",
              "      <td>2010/03</td>\n",
              "      <td>84.494</td>\n",
              "      <td>21</td>\n",
              "    </tr>\n",
              "    <tr>\n",
              "      <th>3</th>\n",
              "      <td>2010/04</td>\n",
              "      <td>79.147</td>\n",
              "      <td>22</td>\n",
              "    </tr>\n",
              "    <tr>\n",
              "      <th>4</th>\n",
              "      <td>2010/05</td>\n",
              "      <td>72.691</td>\n",
              "      <td>23</td>\n",
              "    </tr>\n",
              "    <tr>\n",
              "      <th>...</th>\n",
              "      <td>...</td>\n",
              "      <td>...</td>\n",
              "      <td>...</td>\n",
              "    </tr>\n",
              "    <tr>\n",
              "      <th>127</th>\n",
              "      <td>2020/08</td>\n",
              "      <td>70.691</td>\n",
              "      <td>23</td>\n",
              "    </tr>\n",
              "    <tr>\n",
              "      <th>128</th>\n",
              "      <td>2020/09</td>\n",
              "      <td>73.769</td>\n",
              "      <td>20</td>\n",
              "    </tr>\n",
              "    <tr>\n",
              "      <th>129</th>\n",
              "      <td>2020/10</td>\n",
              "      <td>81.305</td>\n",
              "      <td>23</td>\n",
              "    </tr>\n",
              "    <tr>\n",
              "      <th>130</th>\n",
              "      <td>2020/11</td>\n",
              "      <td>85.335</td>\n",
              "      <td>22</td>\n",
              "    </tr>\n",
              "    <tr>\n",
              "      <th>131</th>\n",
              "      <td>2020/12</td>\n",
              "      <td>79.887</td>\n",
              "      <td>21</td>\n",
              "    </tr>\n",
              "  </tbody>\n",
              "</table>\n",
              "<p>132 rows × 3 columns</p>\n",
              "</div>"
            ],
            "text/plain": [
              "       Fecha  consumo_gasoil  Dias de Venta\n",
              "0    2010/01          68.874             23\n",
              "1    2010/02          60.128             20\n",
              "2    2010/03          84.494             21\n",
              "3    2010/04          79.147             22\n",
              "4    2010/05          72.691             23\n",
              "..       ...             ...            ...\n",
              "127  2020/08          70.691             23\n",
              "128  2020/09          73.769             20\n",
              "129  2020/10          81.305             23\n",
              "130  2020/11          85.335             22\n",
              "131  2020/12          79.887             21\n",
              "\n",
              "[132 rows x 3 columns]"
            ]
          },
          "metadata": {
            "tags": []
          },
          "execution_count": 92
        }
      ]
    },
    {
      "cell_type": "code",
      "metadata": {
        "id": "hbeXmZsUtmG3"
      },
      "source": [
        "# TRATAMIENTO DE UN DATAFRAME CON FILAS DUPLICADAS:"
      ],
      "execution_count": null,
      "outputs": []
    },
    {
      "cell_type": "code",
      "metadata": {
        "colab": {
          "base_uri": "https://localhost:8080/",
          "height": 162
        },
        "id": "dXZz_lDazUMj",
        "outputId": "29e20754-c66d-499b-dd80-5d4143256118"
      },
      "source": [
        "uploaded = files.upload()"
      ],
      "execution_count": null,
      "outputs": [
        {
          "output_type": "error",
          "ename": "NameError",
          "evalue": "ignored",
          "traceback": [
            "\u001b[0;31m---------------------------------------------------------------------------\u001b[0m",
            "\u001b[0;31mNameError\u001b[0m                                 Traceback (most recent call last)",
            "\u001b[0;32m<ipython-input-2-ed2fd71b4a2f>\u001b[0m in \u001b[0;36m<module>\u001b[0;34m()\u001b[0m\n\u001b[0;32m----> 1\u001b[0;31m \u001b[0muploaded\u001b[0m \u001b[0;34m=\u001b[0m \u001b[0mfiles\u001b[0m\u001b[0;34m.\u001b[0m\u001b[0mupload\u001b[0m\u001b[0;34m(\u001b[0m\u001b[0;34m)\u001b[0m\u001b[0;34m\u001b[0m\u001b[0;34m\u001b[0m\u001b[0m\n\u001b[0m",
            "\u001b[0;31mNameError\u001b[0m: name 'files' is not defined"
          ]
        }
      ]
    },
    {
      "cell_type": "code",
      "metadata": {
        "colab": {
          "base_uri": "https://localhost:8080/",
          "height": 417
        },
        "id": "RljWDj_hzUO6",
        "outputId": "2fcc0f07-0e9b-4cac-ee10-cb1914aa1dd7"
      },
      "source": [
        "df_repetidas = pd.read_csv('df_filas_duplicadas.csv', sep=',')\n",
        "df_repetidas"
      ],
      "execution_count": null,
      "outputs": [
        {
          "output_type": "execute_result",
          "data": {
            "text/html": [
              "<div>\n",
              "<style scoped>\n",
              "    .dataframe tbody tr th:only-of-type {\n",
              "        vertical-align: middle;\n",
              "    }\n",
              "\n",
              "    .dataframe tbody tr th {\n",
              "        vertical-align: top;\n",
              "    }\n",
              "\n",
              "    .dataframe thead th {\n",
              "        text-align: right;\n",
              "    }\n",
              "</style>\n",
              "<table border=\"1\" class=\"dataframe\">\n",
              "  <thead>\n",
              "    <tr style=\"text-align: right;\">\n",
              "      <th></th>\n",
              "      <th>Datos</th>\n",
              "    </tr>\n",
              "  </thead>\n",
              "  <tbody>\n",
              "    <tr>\n",
              "      <th>0</th>\n",
              "      <td>20</td>\n",
              "    </tr>\n",
              "    <tr>\n",
              "      <th>1</th>\n",
              "      <td>21</td>\n",
              "    </tr>\n",
              "    <tr>\n",
              "      <th>2</th>\n",
              "      <td>22</td>\n",
              "    </tr>\n",
              "    <tr>\n",
              "      <th>3</th>\n",
              "      <td>23</td>\n",
              "    </tr>\n",
              "    <tr>\n",
              "      <th>4</th>\n",
              "      <td>20</td>\n",
              "    </tr>\n",
              "    <tr>\n",
              "      <th>...</th>\n",
              "      <td>...</td>\n",
              "    </tr>\n",
              "    <tr>\n",
              "      <th>118</th>\n",
              "      <td>23</td>\n",
              "    </tr>\n",
              "    <tr>\n",
              "      <th>119</th>\n",
              "      <td>20</td>\n",
              "    </tr>\n",
              "    <tr>\n",
              "      <th>120</th>\n",
              "      <td>23</td>\n",
              "    </tr>\n",
              "    <tr>\n",
              "      <th>121</th>\n",
              "      <td>22</td>\n",
              "    </tr>\n",
              "    <tr>\n",
              "      <th>122</th>\n",
              "      <td>21</td>\n",
              "    </tr>\n",
              "  </tbody>\n",
              "</table>\n",
              "<p>123 rows × 1 columns</p>\n",
              "</div>"
            ],
            "text/plain": [
              "     Datos\n",
              "0       20\n",
              "1       21\n",
              "2       22\n",
              "3       23\n",
              "4       20\n",
              "..     ...\n",
              "118     23\n",
              "119     20\n",
              "120     23\n",
              "121     22\n",
              "122     21\n",
              "\n",
              "[123 rows x 1 columns]"
            ]
          },
          "metadata": {
            "tags": []
          },
          "execution_count": 94
        }
      ]
    },
    {
      "cell_type": "code",
      "metadata": {
        "colab": {
          "base_uri": "https://localhost:8080/"
        },
        "id": "Rr-naz0L0Cju",
        "outputId": "e5fb1acc-9b11-4cf6-fe4a-ca1499d73e4d"
      },
      "source": [
        "# Ver filas duplicadas en un dataframe\n",
        "# En este ejemplo, a partir de la cuarta fila en adelante, todas las filas estan duplicadas\n",
        "df_repetidas.duplicated()"
      ],
      "execution_count": null,
      "outputs": [
        {
          "output_type": "execute_result",
          "data": {
            "text/plain": [
              "0      False\n",
              "1      False\n",
              "2      False\n",
              "3      False\n",
              "4       True\n",
              "       ...  \n",
              "118     True\n",
              "119     True\n",
              "120     True\n",
              "121     True\n",
              "122     True\n",
              "Length: 123, dtype: bool"
            ]
          },
          "metadata": {
            "tags": []
          },
          "execution_count": 95
        }
      ]
    },
    {
      "cell_type": "code",
      "metadata": {
        "colab": {
          "base_uri": "https://localhost:8080/",
          "height": 417
        },
        "id": "X8aYOyaD1AfU",
        "outputId": "cb7207b6-eb95-4ba3-8bc7-328588888914"
      },
      "source": [
        "# Nos quedamos solo con las filas duplicadas: O sea de la cuarta en adelante:\n",
        "\n",
        "duplicate = df_repetidas[df_repetidas.duplicated()]\n",
        "duplicate"
      ],
      "execution_count": null,
      "outputs": [
        {
          "output_type": "execute_result",
          "data": {
            "text/html": [
              "<div>\n",
              "<style scoped>\n",
              "    .dataframe tbody tr th:only-of-type {\n",
              "        vertical-align: middle;\n",
              "    }\n",
              "\n",
              "    .dataframe tbody tr th {\n",
              "        vertical-align: top;\n",
              "    }\n",
              "\n",
              "    .dataframe thead th {\n",
              "        text-align: right;\n",
              "    }\n",
              "</style>\n",
              "<table border=\"1\" class=\"dataframe\">\n",
              "  <thead>\n",
              "    <tr style=\"text-align: right;\">\n",
              "      <th></th>\n",
              "      <th>Datos</th>\n",
              "    </tr>\n",
              "  </thead>\n",
              "  <tbody>\n",
              "    <tr>\n",
              "      <th>4</th>\n",
              "      <td>20</td>\n",
              "    </tr>\n",
              "    <tr>\n",
              "      <th>5</th>\n",
              "      <td>23</td>\n",
              "    </tr>\n",
              "    <tr>\n",
              "      <th>6</th>\n",
              "      <td>22</td>\n",
              "    </tr>\n",
              "    <tr>\n",
              "      <th>7</th>\n",
              "      <td>21</td>\n",
              "    </tr>\n",
              "    <tr>\n",
              "      <th>8</th>\n",
              "      <td>21</td>\n",
              "    </tr>\n",
              "    <tr>\n",
              "      <th>...</th>\n",
              "      <td>...</td>\n",
              "    </tr>\n",
              "    <tr>\n",
              "      <th>118</th>\n",
              "      <td>23</td>\n",
              "    </tr>\n",
              "    <tr>\n",
              "      <th>119</th>\n",
              "      <td>20</td>\n",
              "    </tr>\n",
              "    <tr>\n",
              "      <th>120</th>\n",
              "      <td>23</td>\n",
              "    </tr>\n",
              "    <tr>\n",
              "      <th>121</th>\n",
              "      <td>22</td>\n",
              "    </tr>\n",
              "    <tr>\n",
              "      <th>122</th>\n",
              "      <td>21</td>\n",
              "    </tr>\n",
              "  </tbody>\n",
              "</table>\n",
              "<p>119 rows × 1 columns</p>\n",
              "</div>"
            ],
            "text/plain": [
              "     Datos\n",
              "4       20\n",
              "5       23\n",
              "6       22\n",
              "7       21\n",
              "8       21\n",
              "..     ...\n",
              "118     23\n",
              "119     20\n",
              "120     23\n",
              "121     22\n",
              "122     21\n",
              "\n",
              "[119 rows x 1 columns]"
            ]
          },
          "metadata": {
            "tags": []
          },
          "execution_count": 96
        }
      ]
    },
    {
      "cell_type": "code",
      "metadata": {
        "colab": {
          "base_uri": "https://localhost:8080/"
        },
        "id": "zdQ9RjLg1S83",
        "outputId": "68ae1911-c1e3-48c8-fa11-e8d6fc8917dc"
      },
      "source": [
        "# Vemos cuantas filas son:\n",
        "len(duplicate)"
      ],
      "execution_count": null,
      "outputs": [
        {
          "output_type": "execute_result",
          "data": {
            "text/plain": [
              "119"
            ]
          },
          "metadata": {
            "tags": []
          },
          "execution_count": 97
        }
      ]
    },
    {
      "cell_type": "code",
      "metadata": {
        "colab": {
          "base_uri": "https://localhost:8080/",
          "height": 172
        },
        "id": "2uN1EyMw1Xn6",
        "outputId": "c00c0e80-c999-484a-87a5-2e80b1047691"
      },
      "source": [
        "# Funcion que elimina las filas duplicadas\n",
        "res = df_repetidas.drop_duplicates() \n",
        "res "
      ],
      "execution_count": null,
      "outputs": [
        {
          "output_type": "execute_result",
          "data": {
            "text/html": [
              "<div>\n",
              "<style scoped>\n",
              "    .dataframe tbody tr th:only-of-type {\n",
              "        vertical-align: middle;\n",
              "    }\n",
              "\n",
              "    .dataframe tbody tr th {\n",
              "        vertical-align: top;\n",
              "    }\n",
              "\n",
              "    .dataframe thead th {\n",
              "        text-align: right;\n",
              "    }\n",
              "</style>\n",
              "<table border=\"1\" class=\"dataframe\">\n",
              "  <thead>\n",
              "    <tr style=\"text-align: right;\">\n",
              "      <th></th>\n",
              "      <th>Datos</th>\n",
              "    </tr>\n",
              "  </thead>\n",
              "  <tbody>\n",
              "    <tr>\n",
              "      <th>0</th>\n",
              "      <td>20</td>\n",
              "    </tr>\n",
              "    <tr>\n",
              "      <th>1</th>\n",
              "      <td>21</td>\n",
              "    </tr>\n",
              "    <tr>\n",
              "      <th>2</th>\n",
              "      <td>22</td>\n",
              "    </tr>\n",
              "    <tr>\n",
              "      <th>3</th>\n",
              "      <td>23</td>\n",
              "    </tr>\n",
              "  </tbody>\n",
              "</table>\n",
              "</div>"
            ],
            "text/plain": [
              "   Datos\n",
              "0     20\n",
              "1     21\n",
              "2     22\n",
              "3     23"
            ]
          },
          "metadata": {
            "tags": []
          },
          "execution_count": 98
        }
      ]
    },
    {
      "cell_type": "code",
      "metadata": {
        "id": "xkotozgp3x1Q"
      },
      "source": [
        "# Funcion para eliminar filas duplicadas en un dataframe:\n",
        "\n",
        "def clean_duplicate(df,duplicate=True):\n",
        "    if duplicate is True:\n",
        "        duplicate = df[df.duplicated()]\n",
        "        print(\"Número de filas duplicadas:\", len(duplicate))\n",
        "        res = df.drop_duplicates() \n",
        "    else: res=df   \n",
        "    return res"
      ],
      "execution_count": null,
      "outputs": []
    },
    {
      "cell_type": "code",
      "metadata": {
        "colab": {
          "base_uri": "https://localhost:8080/",
          "height": 189
        },
        "id": "VSgimJDR4ZU0",
        "outputId": "932fb362-52ff-49f1-ff7a-fe85bbc21389"
      },
      "source": [
        "df_arreglado = clean_duplicate(df_repetidas,True)\n",
        "df_arreglado"
      ],
      "execution_count": null,
      "outputs": [
        {
          "output_type": "stream",
          "text": [
            "Número de filas duplicadas: 119\n"
          ],
          "name": "stdout"
        },
        {
          "output_type": "execute_result",
          "data": {
            "text/html": [
              "<div>\n",
              "<style scoped>\n",
              "    .dataframe tbody tr th:only-of-type {\n",
              "        vertical-align: middle;\n",
              "    }\n",
              "\n",
              "    .dataframe tbody tr th {\n",
              "        vertical-align: top;\n",
              "    }\n",
              "\n",
              "    .dataframe thead th {\n",
              "        text-align: right;\n",
              "    }\n",
              "</style>\n",
              "<table border=\"1\" class=\"dataframe\">\n",
              "  <thead>\n",
              "    <tr style=\"text-align: right;\">\n",
              "      <th></th>\n",
              "      <th>Datos</th>\n",
              "    </tr>\n",
              "  </thead>\n",
              "  <tbody>\n",
              "    <tr>\n",
              "      <th>0</th>\n",
              "      <td>20</td>\n",
              "    </tr>\n",
              "    <tr>\n",
              "      <th>1</th>\n",
              "      <td>21</td>\n",
              "    </tr>\n",
              "    <tr>\n",
              "      <th>2</th>\n",
              "      <td>22</td>\n",
              "    </tr>\n",
              "    <tr>\n",
              "      <th>3</th>\n",
              "      <td>23</td>\n",
              "    </tr>\n",
              "  </tbody>\n",
              "</table>\n",
              "</div>"
            ],
            "text/plain": [
              "   Datos\n",
              "0     20\n",
              "1     21\n",
              "2     22\n",
              "3     23"
            ]
          },
          "metadata": {
            "tags": []
          },
          "execution_count": 100
        }
      ]
    },
    {
      "cell_type": "code",
      "metadata": {
        "id": "Sfrott2Y4-kV"
      },
      "source": [
        ""
      ],
      "execution_count": null,
      "outputs": []
    },
    {
      "cell_type": "code",
      "metadata": {
        "id": "9USSKI874-nB"
      },
      "source": [
        ""
      ],
      "execution_count": null,
      "outputs": []
    },
    {
      "cell_type": "code",
      "metadata": {
        "id": "ceg-S2sN4-pb"
      },
      "source": [
        ""
      ],
      "execution_count": null,
      "outputs": []
    },
    {
      "cell_type": "code",
      "metadata": {
        "id": "grpZApOP4-rr"
      },
      "source": [
        "# TRATAMIENTO DE UN DATAFRAME CON FILAS EN BLANCO"
      ],
      "execution_count": null,
      "outputs": []
    },
    {
      "cell_type": "code",
      "metadata": {
        "colab": {
          "base_uri": "https://localhost:8080/",
          "height": 162
        },
        "id": "sDInCnFw4-uq",
        "outputId": "23fa3c64-414d-48d4-a450-9b339be6e1e7"
      },
      "source": [
        "uploaded = files.upload()"
      ],
      "execution_count": null,
      "outputs": [
        {
          "output_type": "error",
          "ename": "NameError",
          "evalue": "ignored",
          "traceback": [
            "\u001b[0;31m---------------------------------------------------------------------------\u001b[0m",
            "\u001b[0;31mNameError\u001b[0m                                 Traceback (most recent call last)",
            "\u001b[0;32m<ipython-input-1-ed2fd71b4a2f>\u001b[0m in \u001b[0;36m<module>\u001b[0;34m()\u001b[0m\n\u001b[0;32m----> 1\u001b[0;31m \u001b[0muploaded\u001b[0m \u001b[0;34m=\u001b[0m \u001b[0mfiles\u001b[0m\u001b[0;34m.\u001b[0m\u001b[0mupload\u001b[0m\u001b[0;34m(\u001b[0m\u001b[0;34m)\u001b[0m\u001b[0;34m\u001b[0m\u001b[0;34m\u001b[0m\u001b[0m\n\u001b[0m",
            "\u001b[0;31mNameError\u001b[0m: name 'files' is not defined"
          ]
        }
      ]
    },
    {
      "cell_type": "code",
      "metadata": {
        "colab": {
          "base_uri": "https://localhost:8080/",
          "height": 417
        },
        "id": "YvvV9Wqq65Xr",
        "outputId": "aa042ada-82c2-471e-fb1b-e95e62035a67"
      },
      "source": [
        "df_blanco = pd.read_csv('df_filas_blanco.csv', sep=',')\n",
        "df_blanco"
      ],
      "execution_count": null,
      "outputs": [
        {
          "output_type": "execute_result",
          "data": {
            "text/html": [
              "<div>\n",
              "<style scoped>\n",
              "    .dataframe tbody tr th:only-of-type {\n",
              "        vertical-align: middle;\n",
              "    }\n",
              "\n",
              "    .dataframe tbody tr th {\n",
              "        vertical-align: top;\n",
              "    }\n",
              "\n",
              "    .dataframe thead th {\n",
              "        text-align: right;\n",
              "    }\n",
              "</style>\n",
              "<table border=\"1\" class=\"dataframe\">\n",
              "  <thead>\n",
              "    <tr style=\"text-align: right;\">\n",
              "      <th></th>\n",
              "      <th>Datos</th>\n",
              "    </tr>\n",
              "  </thead>\n",
              "  <tbody>\n",
              "    <tr>\n",
              "      <th>0</th>\n",
              "      <td>20</td>\n",
              "    </tr>\n",
              "    <tr>\n",
              "      <th>1</th>\n",
              "      <td>21</td>\n",
              "    </tr>\n",
              "    <tr>\n",
              "      <th>2</th>\n",
              "      <td>22</td>\n",
              "    </tr>\n",
              "    <tr>\n",
              "      <th>3</th>\n",
              "      <td>23</td>\n",
              "    </tr>\n",
              "    <tr>\n",
              "      <th>4</th>\n",
              "      <td>20</td>\n",
              "    </tr>\n",
              "    <tr>\n",
              "      <th>...</th>\n",
              "      <td>...</td>\n",
              "    </tr>\n",
              "    <tr>\n",
              "      <th>118</th>\n",
              "      <td>22</td>\n",
              "    </tr>\n",
              "    <tr>\n",
              "      <th>119</th>\n",
              "      <td>21</td>\n",
              "    </tr>\n",
              "    <tr>\n",
              "      <th>120</th>\n",
              "      <td>21</td>\n",
              "    </tr>\n",
              "    <tr>\n",
              "      <th>121</th>\n",
              "      <td>22</td>\n",
              "    </tr>\n",
              "    <tr>\n",
              "      <th>122</th>\n",
              "      <td>23</td>\n",
              "    </tr>\n",
              "  </tbody>\n",
              "</table>\n",
              "<p>123 rows × 1 columns</p>\n",
              "</div>"
            ],
            "text/plain": [
              "    Datos\n",
              "0      20\n",
              "1      21\n",
              "2      22\n",
              "3      23\n",
              "4      20\n",
              "..    ...\n",
              "118    22\n",
              "119    21\n",
              "120    21\n",
              "121    22\n",
              "122    23\n",
              "\n",
              "[123 rows x 1 columns]"
            ]
          },
          "metadata": {
            "tags": []
          },
          "execution_count": 102
        }
      ]
    },
    {
      "cell_type": "code",
      "metadata": {
        "colab": {
          "base_uri": "https://localhost:8080/",
          "height": 35
        },
        "id": "UPstu-Q67gxs",
        "outputId": "41e50eab-0c26-4a32-debc-68b18b288e11"
      },
      "source": [
        "df_blanco.iloc[6]['Datos']"
      ],
      "execution_count": null,
      "outputs": [
        {
          "output_type": "execute_result",
          "data": {
            "application/vnd.google.colaboratory.intrinsic+json": {
              "type": "string"
            },
            "text/plain": [
              "'_'"
            ]
          },
          "metadata": {
            "tags": []
          },
          "execution_count": 103
        }
      ]
    },
    {
      "cell_type": "code",
      "metadata": {
        "id": "ANJ7Alo297iV"
      },
      "source": [
        "\n",
        "def clean_duplicate(df,duplicate=True):\n",
        "    if duplicate is True:\n",
        "        duplicate = df[df.duplicated()]\n",
        "        print(\"Número de filas duplicadas:\", len(duplicate))\n",
        "        res = df.drop_duplicates() \n",
        "    else: res=df   \n",
        "    return res"
      ],
      "execution_count": null,
      "outputs": []
    },
    {
      "cell_type": "code",
      "metadata": {
        "id": "jdtsykms4Lz_"
      },
      "source": [
        "# Funcion para eliminar columnas duplicadas en un dataframe\n",
        "def clean_blanks(df, blank_rows =True):\n",
        "  if blank_rows is True:\n",
        "      res = df\n",
        "      for i in df:\n",
        "        blank_rows = df[ (df[i] == '\\n') | (df[i] == '') | (df[i] == None) | (res[i] == '_')] .index \n",
        "        print(\"Número de filas en blanco:\", len(blank_rows))\n",
        "        res=res.drop(res[ (res[i] == '\\n') | (res[i] == '') | (res[i] == None) | (res[i] == '_')] .index, axis = 0)\n",
        "  else: res=df\n",
        "  return res"
      ],
      "execution_count": null,
      "outputs": []
    },
    {
      "cell_type": "code",
      "metadata": {
        "id": "Q9GVCkBJ7q3m",
        "colab": {
          "base_uri": "https://localhost:8080/",
          "height": 434
        },
        "outputId": "b69ed41d-9137-4dbc-870f-f3e539c7bdba"
      },
      "source": [
        "df_arreglado_blanco = clean_blanks(df_blanco, True)\n",
        "df_arreglado_blanco"
      ],
      "execution_count": null,
      "outputs": [
        {
          "output_type": "stream",
          "text": [
            "Número de filas en blanco: 10\n"
          ],
          "name": "stdout"
        },
        {
          "output_type": "execute_result",
          "data": {
            "text/html": [
              "<div>\n",
              "<style scoped>\n",
              "    .dataframe tbody tr th:only-of-type {\n",
              "        vertical-align: middle;\n",
              "    }\n",
              "\n",
              "    .dataframe tbody tr th {\n",
              "        vertical-align: top;\n",
              "    }\n",
              "\n",
              "    .dataframe thead th {\n",
              "        text-align: right;\n",
              "    }\n",
              "</style>\n",
              "<table border=\"1\" class=\"dataframe\">\n",
              "  <thead>\n",
              "    <tr style=\"text-align: right;\">\n",
              "      <th></th>\n",
              "      <th>Datos</th>\n",
              "    </tr>\n",
              "  </thead>\n",
              "  <tbody>\n",
              "    <tr>\n",
              "      <th>0</th>\n",
              "      <td>20</td>\n",
              "    </tr>\n",
              "    <tr>\n",
              "      <th>1</th>\n",
              "      <td>21</td>\n",
              "    </tr>\n",
              "    <tr>\n",
              "      <th>2</th>\n",
              "      <td>22</td>\n",
              "    </tr>\n",
              "    <tr>\n",
              "      <th>3</th>\n",
              "      <td>23</td>\n",
              "    </tr>\n",
              "    <tr>\n",
              "      <th>4</th>\n",
              "      <td>20</td>\n",
              "    </tr>\n",
              "    <tr>\n",
              "      <th>...</th>\n",
              "      <td>...</td>\n",
              "    </tr>\n",
              "    <tr>\n",
              "      <th>118</th>\n",
              "      <td>22</td>\n",
              "    </tr>\n",
              "    <tr>\n",
              "      <th>119</th>\n",
              "      <td>21</td>\n",
              "    </tr>\n",
              "    <tr>\n",
              "      <th>120</th>\n",
              "      <td>21</td>\n",
              "    </tr>\n",
              "    <tr>\n",
              "      <th>121</th>\n",
              "      <td>22</td>\n",
              "    </tr>\n",
              "    <tr>\n",
              "      <th>122</th>\n",
              "      <td>23</td>\n",
              "    </tr>\n",
              "  </tbody>\n",
              "</table>\n",
              "<p>113 rows × 1 columns</p>\n",
              "</div>"
            ],
            "text/plain": [
              "    Datos\n",
              "0      20\n",
              "1      21\n",
              "2      22\n",
              "3      23\n",
              "4      20\n",
              "..    ...\n",
              "118    22\n",
              "119    21\n",
              "120    21\n",
              "121    22\n",
              "122    23\n",
              "\n",
              "[113 rows x 1 columns]"
            ]
          },
          "metadata": {
            "tags": []
          },
          "execution_count": 107
        }
      ]
    },
    {
      "cell_type": "code",
      "metadata": {
        "colab": {
          "base_uri": "https://localhost:8080/",
          "height": 35
        },
        "id": "ZQHXukRF-SCz",
        "outputId": "cb70a98b-a2f4-41ec-f074-40352b908809"
      },
      "source": [
        "df_arreglado_blanco.iloc[6]['Datos']"
      ],
      "execution_count": null,
      "outputs": [
        {
          "output_type": "execute_result",
          "data": {
            "application/vnd.google.colaboratory.intrinsic+json": {
              "type": "string"
            },
            "text/plain": [
              "'21'"
            ]
          },
          "metadata": {
            "tags": []
          },
          "execution_count": 109
        }
      ]
    },
    {
      "cell_type": "code",
      "metadata": {
        "id": "-5h0swaw-dbM"
      },
      "source": [
        "# AMBAS FUNCIONES EN FORMA CONJUNTA:"
      ],
      "execution_count": null,
      "outputs": []
    },
    {
      "cell_type": "code",
      "metadata": {
        "id": "FbzrWmi7zURh"
      },
      "source": [
        "def clean(df,duplicate=True,blank_rows =True):\n",
        "    if duplicate is True:\n",
        "        duplicate = df[df.duplicated()]\n",
        "        print(\"Número de filas duplicadas:\", len(duplicate))\n",
        "        res = df.drop_duplicates() \n",
        "    else: res=df    \n",
        "    if blank_rows is True:\n",
        "        for i in df:\n",
        "            blank_rows = df[ (df[i] == '\\n') | (df[i] == '') | (df[i] == None) | (df[i] == '_')] .index \n",
        "        print(\"Número de filas en blanco:\", len(blank_rows))\n",
        "        res=res.drop(res[ (res[i] == '\\n') | (res[i] == '') | (res[i] == None)| (df[i] == '_')] .index, axis = 0)\n",
        "    else: res=df\n",
        "    return res"
      ],
      "execution_count": null,
      "outputs": []
    },
    {
      "cell_type": "code",
      "metadata": {
        "colab": {
          "base_uri": "https://localhost:8080/",
          "height": 220
        },
        "id": "iRbEfNc_-6WE",
        "outputId": "aa536210-ade1-429e-b00b-92760f443218"
      },
      "source": [
        "df_arreglado_total = clean_duplicate(df_blanco, True)\n",
        "df_arreglado_total"
      ],
      "execution_count": null,
      "outputs": [
        {
          "output_type": "stream",
          "text": [
            "Número de filas duplicadas: 118\n"
          ],
          "name": "stdout"
        },
        {
          "output_type": "execute_result",
          "data": {
            "text/html": [
              "<div>\n",
              "<style scoped>\n",
              "    .dataframe tbody tr th:only-of-type {\n",
              "        vertical-align: middle;\n",
              "    }\n",
              "\n",
              "    .dataframe tbody tr th {\n",
              "        vertical-align: top;\n",
              "    }\n",
              "\n",
              "    .dataframe thead th {\n",
              "        text-align: right;\n",
              "    }\n",
              "</style>\n",
              "<table border=\"1\" class=\"dataframe\">\n",
              "  <thead>\n",
              "    <tr style=\"text-align: right;\">\n",
              "      <th></th>\n",
              "      <th>Datos</th>\n",
              "    </tr>\n",
              "  </thead>\n",
              "  <tbody>\n",
              "    <tr>\n",
              "      <th>0</th>\n",
              "      <td>20</td>\n",
              "    </tr>\n",
              "    <tr>\n",
              "      <th>1</th>\n",
              "      <td>21</td>\n",
              "    </tr>\n",
              "    <tr>\n",
              "      <th>2</th>\n",
              "      <td>22</td>\n",
              "    </tr>\n",
              "    <tr>\n",
              "      <th>3</th>\n",
              "      <td>23</td>\n",
              "    </tr>\n",
              "    <tr>\n",
              "      <th>6</th>\n",
              "      <td>_</td>\n",
              "    </tr>\n",
              "  </tbody>\n",
              "</table>\n",
              "</div>"
            ],
            "text/plain": [
              "  Datos\n",
              "0    20\n",
              "1    21\n",
              "2    22\n",
              "3    23\n",
              "6     _"
            ]
          },
          "metadata": {
            "tags": []
          },
          "execution_count": 115
        }
      ]
    },
    {
      "cell_type": "code",
      "metadata": {
        "id": "se5Or0WhtmJL",
        "colab": {
          "base_uri": "https://localhost:8080/",
          "height": 239
        },
        "outputId": "48631c14-c1a2-403c-dbdd-f8d5882a12ab"
      },
      "source": [
        "df_arreglado_total = clean(df_blanco, True, True)\n",
        "df_arreglado_total"
      ],
      "execution_count": null,
      "outputs": [
        {
          "output_type": "stream",
          "text": [
            "Número de filas duplicadas: 118\n",
            "Número de filas en blanco: 10\n"
          ],
          "name": "stdout"
        },
        {
          "output_type": "stream",
          "text": [
            "/usr/local/lib/python3.7/dist-packages/ipykernel_launcher.py:11: UserWarning: Boolean Series key will be reindexed to match DataFrame index.\n",
            "  # This is added back by InteractiveShellApp.init_path()\n"
          ],
          "name": "stderr"
        },
        {
          "output_type": "execute_result",
          "data": {
            "text/html": [
              "<div>\n",
              "<style scoped>\n",
              "    .dataframe tbody tr th:only-of-type {\n",
              "        vertical-align: middle;\n",
              "    }\n",
              "\n",
              "    .dataframe tbody tr th {\n",
              "        vertical-align: top;\n",
              "    }\n",
              "\n",
              "    .dataframe thead th {\n",
              "        text-align: right;\n",
              "    }\n",
              "</style>\n",
              "<table border=\"1\" class=\"dataframe\">\n",
              "  <thead>\n",
              "    <tr style=\"text-align: right;\">\n",
              "      <th></th>\n",
              "      <th>Datos</th>\n",
              "    </tr>\n",
              "  </thead>\n",
              "  <tbody>\n",
              "    <tr>\n",
              "      <th>0</th>\n",
              "      <td>20</td>\n",
              "    </tr>\n",
              "    <tr>\n",
              "      <th>1</th>\n",
              "      <td>21</td>\n",
              "    </tr>\n",
              "    <tr>\n",
              "      <th>2</th>\n",
              "      <td>22</td>\n",
              "    </tr>\n",
              "    <tr>\n",
              "      <th>3</th>\n",
              "      <td>23</td>\n",
              "    </tr>\n",
              "  </tbody>\n",
              "</table>\n",
              "</div>"
            ],
            "text/plain": [
              "  Datos\n",
              "0    20\n",
              "1    21\n",
              "2    22\n",
              "3    23"
            ]
          },
          "metadata": {
            "tags": []
          },
          "execution_count": 114
        }
      ]
    },
    {
      "cell_type": "code",
      "metadata": {
        "id": "ViPR1TYZtmLx"
      },
      "source": [
        "\n",
        "# Consideraciones al trabajar con dataframes\n",
        "# En general, eliminamos las filas duplicadas, a menos que aporten informacion. Si hay elementos faltantes (datos en null, quizas podemos completarlos con el promedio del total de datos, dependiendo de si tiene sentido o no)\n",
        "# Eliminar filas que estan en blanco, o que tienen datos clave en null (al eliminar un dato en null, estamos eliminando los datos correspondientes a otras columnas/variables de la misma fila)"
      ],
      "execution_count": null,
      "outputs": []
    },
    {
      "cell_type": "code",
      "metadata": {
        "colab": {
          "base_uri": "https://localhost:8080/"
        },
        "id": "w3zaDlS1_tu-",
        "outputId": "86f7295d-3a43-4726-a5d3-3d0f3a75ebdf"
      },
      "source": [
        "# ESCALADO DE LOS DATOS: Muy util en redes neuronales\n",
        "\n",
        "from sklearn.preprocessing import MinMaxScaler\n",
        "\n",
        "scaler_datos = MinMaxScaler(feature_range = (0, 1)).fit(dv)\n",
        "dv = scaler_datos.transform(dv)\n",
        "dv"
      ],
      "execution_count": null,
      "outputs": [
        {
          "output_type": "execute_result",
          "data": {
            "text/plain": [
              "array([[1.        ],\n",
              "       [0.        ],\n",
              "       [0.33333333],\n",
              "       [0.66666667],\n",
              "       [1.        ],\n",
              "       [0.        ],\n",
              "       [1.        ],\n",
              "       [0.66666667],\n",
              "       [0.33333333],\n",
              "       [1.        ],\n",
              "       [0.33333333],\n",
              "       [0.66666667],\n",
              "       [1.        ],\n",
              "       [0.        ],\n",
              "       [0.33333333],\n",
              "       [0.66666667],\n",
              "       [0.66666667],\n",
              "       [0.33333333],\n",
              "       [1.        ],\n",
              "       [0.33333333],\n",
              "       [0.66666667],\n",
              "       [1.        ],\n",
              "       [0.        ],\n",
              "       [1.        ],\n",
              "       [0.66666667],\n",
              "       [0.        ],\n",
              "       [1.        ],\n",
              "       [0.66666667],\n",
              "       [0.33333333],\n",
              "       [0.66666667],\n",
              "       [0.66666667],\n",
              "       [0.66666667],\n",
              "       [0.66666667],\n",
              "       [0.33333333],\n",
              "       [0.66666667],\n",
              "       [1.        ],\n",
              "       [0.33333333],\n",
              "       [0.        ],\n",
              "       [1.        ],\n",
              "       [0.33333333],\n",
              "       [0.66666667],\n",
              "       [0.66666667],\n",
              "       [0.33333333],\n",
              "       [1.        ],\n",
              "       [0.66666667],\n",
              "       [0.33333333],\n",
              "       [0.66666667],\n",
              "       [0.66666667],\n",
              "       [0.66666667],\n",
              "       [0.        ],\n",
              "       [1.        ],\n",
              "       [0.        ],\n",
              "       [1.        ],\n",
              "       [0.66666667],\n",
              "       [0.33333333],\n",
              "       [1.        ],\n",
              "       [0.33333333],\n",
              "       [0.66666667],\n",
              "       [0.66666667],\n",
              "       [0.33333333],\n",
              "       [1.        ],\n",
              "       [0.        ],\n",
              "       [0.66666667],\n",
              "       [0.33333333],\n",
              "       [1.        ],\n",
              "       [0.33333333],\n",
              "       [0.66666667],\n",
              "       [1.        ],\n",
              "       [0.        ],\n",
              "       [1.        ],\n",
              "       [0.66666667],\n",
              "       [0.33333333],\n",
              "       [1.        ],\n",
              "       [0.33333333],\n",
              "       [0.33333333],\n",
              "       [0.66666667],\n",
              "       [0.66666667],\n",
              "       [0.33333333],\n",
              "       [1.        ],\n",
              "       [0.33333333],\n",
              "       [0.66666667],\n",
              "       [1.        ],\n",
              "       [0.        ],\n",
              "       [1.        ],\n",
              "       [0.66666667],\n",
              "       [0.        ],\n",
              "       [0.66666667],\n",
              "       [0.66666667],\n",
              "       [0.33333333],\n",
              "       [0.66666667],\n",
              "       [1.        ],\n",
              "       [0.33333333],\n",
              "       [0.66666667],\n",
              "       [0.66666667],\n",
              "       [0.33333333],\n",
              "       [1.        ],\n",
              "       [0.33333333],\n",
              "       [0.        ],\n",
              "       [1.        ],\n",
              "       [0.66666667],\n",
              "       [0.33333333],\n",
              "       [0.66666667],\n",
              "       [0.66666667],\n",
              "       [0.66666667],\n",
              "       [0.66666667],\n",
              "       [0.33333333],\n",
              "       [0.66666667],\n",
              "       [1.        ],\n",
              "       [0.33333333],\n",
              "       [0.        ],\n",
              "       [1.        ],\n",
              "       [0.33333333],\n",
              "       [0.66666667],\n",
              "       [0.66666667],\n",
              "       [0.33333333],\n",
              "       [1.        ],\n",
              "       [0.66666667],\n",
              "       [0.33333333],\n",
              "       [0.66666667],\n",
              "       [0.66666667],\n",
              "       [0.66666667],\n",
              "       [0.33333333],\n",
              "       [0.66666667],\n",
              "       [0.33333333],\n",
              "       [1.        ],\n",
              "       [0.33333333],\n",
              "       [0.66666667],\n",
              "       [1.        ],\n",
              "       [0.        ],\n",
              "       [1.        ],\n",
              "       [0.66666667],\n",
              "       [0.33333333]])"
            ]
          },
          "metadata": {
            "tags": []
          },
          "execution_count": 118
        }
      ]
    },
    {
      "cell_type": "code",
      "metadata": {
        "colab": {
          "base_uri": "https://localhost:8080/"
        },
        "id": "OqV5eCBI_t0J",
        "outputId": "71e79cc9-5493-48c9-9361-71f061018e83"
      },
      "source": [
        "dv = scaler_datos.inverse_transform(dv)\n",
        "dv"
      ],
      "execution_count": null,
      "outputs": [
        {
          "output_type": "execute_result",
          "data": {
            "text/plain": [
              "array([[23.],\n",
              "       [20.],\n",
              "       [21.],\n",
              "       [22.],\n",
              "       [23.],\n",
              "       [20.],\n",
              "       [23.],\n",
              "       [22.],\n",
              "       [21.],\n",
              "       [23.],\n",
              "       [21.],\n",
              "       [22.],\n",
              "       [23.],\n",
              "       [20.],\n",
              "       [21.],\n",
              "       [22.],\n",
              "       [22.],\n",
              "       [21.],\n",
              "       [23.],\n",
              "       [21.],\n",
              "       [22.],\n",
              "       [23.],\n",
              "       [20.],\n",
              "       [23.],\n",
              "       [22.],\n",
              "       [20.],\n",
              "       [23.],\n",
              "       [22.],\n",
              "       [21.],\n",
              "       [22.],\n",
              "       [22.],\n",
              "       [22.],\n",
              "       [22.],\n",
              "       [21.],\n",
              "       [22.],\n",
              "       [23.],\n",
              "       [21.],\n",
              "       [20.],\n",
              "       [23.],\n",
              "       [21.],\n",
              "       [22.],\n",
              "       [22.],\n",
              "       [21.],\n",
              "       [23.],\n",
              "       [22.],\n",
              "       [21.],\n",
              "       [22.],\n",
              "       [22.],\n",
              "       [22.],\n",
              "       [20.],\n",
              "       [23.],\n",
              "       [20.],\n",
              "       [23.],\n",
              "       [22.],\n",
              "       [21.],\n",
              "       [23.],\n",
              "       [21.],\n",
              "       [22.],\n",
              "       [22.],\n",
              "       [21.],\n",
              "       [23.],\n",
              "       [20.],\n",
              "       [22.],\n",
              "       [21.],\n",
              "       [23.],\n",
              "       [21.],\n",
              "       [22.],\n",
              "       [23.],\n",
              "       [20.],\n",
              "       [23.],\n",
              "       [22.],\n",
              "       [21.],\n",
              "       [23.],\n",
              "       [21.],\n",
              "       [21.],\n",
              "       [22.],\n",
              "       [22.],\n",
              "       [21.],\n",
              "       [23.],\n",
              "       [21.],\n",
              "       [22.],\n",
              "       [23.],\n",
              "       [20.],\n",
              "       [23.],\n",
              "       [22.],\n",
              "       [20.],\n",
              "       [22.],\n",
              "       [22.],\n",
              "       [21.],\n",
              "       [22.],\n",
              "       [23.],\n",
              "       [21.],\n",
              "       [22.],\n",
              "       [22.],\n",
              "       [21.],\n",
              "       [23.],\n",
              "       [21.],\n",
              "       [20.],\n",
              "       [23.],\n",
              "       [22.],\n",
              "       [21.],\n",
              "       [22.],\n",
              "       [22.],\n",
              "       [22.],\n",
              "       [22.],\n",
              "       [21.],\n",
              "       [22.],\n",
              "       [23.],\n",
              "       [21.],\n",
              "       [20.],\n",
              "       [23.],\n",
              "       [21.],\n",
              "       [22.],\n",
              "       [22.],\n",
              "       [21.],\n",
              "       [23.],\n",
              "       [22.],\n",
              "       [21.],\n",
              "       [22.],\n",
              "       [22.],\n",
              "       [22.],\n",
              "       [21.],\n",
              "       [22.],\n",
              "       [21.],\n",
              "       [23.],\n",
              "       [21.],\n",
              "       [22.],\n",
              "       [23.],\n",
              "       [20.],\n",
              "       [23.],\n",
              "       [22.],\n",
              "       [21.]])"
            ]
          },
          "metadata": {
            "tags": []
          },
          "execution_count": 122
        }
      ]
    },
    {
      "cell_type": "code",
      "metadata": {
        "id": "JW2o5LhQAm09"
      },
      "source": [
        ""
      ],
      "execution_count": null,
      "outputs": []
    },
    {
      "cell_type": "code",
      "metadata": {
        "id": "991iTrUTGVpI"
      },
      "source": [
        "# Esta funcion genera una lista de diccionarios\n",
        "def crearExperimentos(autos,camiones,motos,calidades):\n",
        "    experimentos = []\n",
        "    for auto in autos:\n",
        "        for camion in camiones:\n",
        "            for moto in motos:\n",
        "                for calidad in calidades:\n",
        "                    if (len(calidad[0]) > 0) and (len(calidad[1]) > 0):\n",
        "                        nombre = \"A_B\"\n",
        "                    elif (len(calidad[0]) > 0):\n",
        "                        nombre = \"A\"\n",
        "                    elif len(calidad[1]) > 0:\n",
        "                        nombre = \"B\"\n",
        "                    else:\n",
        "                        nombre = \"1_B\"\n",
        "                    e = {\n",
        "                            \"nombre\":nombre,\n",
        "                            \"Auto\": auto,\n",
        "                            \"Camion\": camion,\n",
        "                            \"Moto\": moto,\n",
        "                            \"Calidad\":calidad\n",
        "                        }\n",
        "                    experimentos.append(e)\n",
        "    return experimentos"
      ],
      "execution_count": null,
      "outputs": []
    },
    {
      "cell_type": "code",
      "metadata": {
        "id": "lTh0kytBGVum"
      },
      "source": [
        "autos = ['mercedez','toyota','susuki','bmw']\n",
        "camiones = ['camion1','camion2','camion3']\n",
        "motos = ['moto1','moto2','moto3']\n",
        "calidades = [(['buena'], []), (['mala'], []), (['buena'], ['mala'])]\n",
        "\n",
        "experimentos = crearExperimentos(autos, camiones, motos, calidades)\n",
        "\n",
        "experimentos\n"
      ],
      "execution_count": null,
      "outputs": []
    },
    {
      "cell_type": "code",
      "metadata": {
        "id": "MbNuweY2JukL"
      },
      "source": [
        "# GENERACION DE ARCHIVOS EN MODO LOCAL\n",
        "\n",
        "path_salida  = \"C:\\\\Users\\\\usuario\\\\Desktop\\\\curso_ML_ORT\\\\\"\n",
        "\n",
        "contador = 0\n",
        "for e in experimentos:\n",
        "  archivoSalida = open (\"{}\\\\informacion_vehiculos.txt{}\".format(path_salida, contador), \"w\")\n",
        "  \n",
        "  contador +=1\n",
        "  Auto = e[\"Auto\"]\n",
        "  Camion = e[\"Camion\"]\n",
        "  Moto = e[\"Moto\"]\n",
        "  Calidad_A = e[\"Calidad\"][0]\n",
        "  Calidad_B = e[\"Calidad\"][1]\n",
        "  \n",
        "  archivoSalida.write(\"Calidades:\\nCalidad A: {}\\nCalidad B: {}\\n\\nAutos: {}\\nCamiones: {}\\nMotos: {}\\n\\n\". \\\n",
        "                  format(e[\"Calidad\"][0],e[\"Calidad\"][1],e[\"Auto\"],e[\"Camion\"],e[\"Moto\"]))\n",
        "  archivoSalida.close()\n"
      ],
      "execution_count": null,
      "outputs": []
    },
    {
      "cell_type": "code",
      "metadata": {
        "id": "uJLxpbZR5xTB"
      },
      "source": [
        "# https://www.anaconda.com/products/individual/get-started"
      ],
      "execution_count": null,
      "outputs": []
    },
    {
      "cell_type": "code",
      "metadata": {
        "id": "6eJG-7_X5xWj"
      },
      "source": [
        "# CALENDARIO"
      ],
      "execution_count": null,
      "outputs": []
    },
    {
      "cell_type": "code",
      "metadata": {
        "id": "lg6Ukjgu5xZc"
      },
      "source": [
        "from datetime import date\n",
        "from dateutil.relativedelta import relativedelta\n",
        "from calendar import monthcalendar"
      ],
      "execution_count": null,
      "outputs": []
    },
    {
      "cell_type": "code",
      "metadata": {
        "colab": {
          "base_uri": "https://localhost:8080/"
        },
        "id": "Z5vNRG0p5xcW",
        "outputId": "7d6dffb5-5f66-430c-9b7d-321695a4986c"
      },
      "source": [
        "monthcalendar(2021,5) \n"
      ],
      "execution_count": null,
      "outputs": [
        {
          "output_type": "execute_result",
          "data": {
            "text/plain": [
              "[[0, 0, 0, 0, 0, 1, 2],\n",
              " [3, 4, 5, 6, 7, 8, 9],\n",
              " [10, 11, 12, 13, 14, 15, 16],\n",
              " [17, 18, 19, 20, 21, 22, 23],\n",
              " [24, 25, 26, 27, 28, 29, 30],\n",
              " [31, 0, 0, 0, 0, 0, 0]]"
            ]
          },
          "metadata": {
            "tags": []
          },
          "execution_count": 6
        }
      ]
    },
    {
      "cell_type": "markdown",
      "metadata": {
        "id": "iGFMYH-k7qMI"
      },
      "source": [
        "Nos devuelve listas (cada lista es una semana del mes, y pone lunes en la posición cero, martes en la posición uno, y asi sucesivamente).El ejemplo es para mayo 2021:\n",
        "\n",
        "En el ejemplo de mayo 2021, vemos que la primer lista tiene 1, 2 en las posiciones 6 y 7 de la semana, que corresponden a sabado y domingo. En la lista dos, tenemos lunes 3 en la posición 1, martes 4 en la posición 2, y asi sucesivamente.`"
      ]
    },
    {
      "cell_type": "code",
      "metadata": {
        "colab": {
          "base_uri": "https://localhost:8080/"
        },
        "id": "hh4dcvXbMell",
        "outputId": "3f6b08f0-02d5-4357-d0ce-92b914937566"
      },
      "source": [
        "[j for i in monthcalendar(2021, 5) for j in i[:5] if j != 0]\n",
        "\n",
        "# Deja todo lo anterior (o sea solo los días hábiles del mes) en una sola lista."
      ],
      "execution_count": null,
      "outputs": [
        {
          "output_type": "execute_result",
          "data": {
            "text/plain": [
              "[3, 4, 5, 6, 7, 10, 11, 12, 13, 14, 17, 18, 19, 20, 21, 24, 25, 26, 27, 28, 31]"
            ]
          },
          "metadata": {
            "tags": []
          },
          "execution_count": 7
        }
      ]
    },
    {
      "cell_type": "code",
      "metadata": {
        "id": "EsDVJpoT7wZ4"
      },
      "source": [
        "# TODO JUNTO:\n",
        "\n",
        "def dias_habiles(anio, mes):\n",
        "    return len([j for i in monthcalendar(anio, mes) for j in i[:5] if j != 0])"
      ],
      "execution_count": null,
      "outputs": []
    },
    {
      "cell_type": "code",
      "metadata": {
        "colab": {
          "base_uri": "https://localhost:8080/"
        },
        "id": "34zCeEQa8hfa",
        "outputId": "66556c90-3ef2-4c62-a5b3-c30066e093ac"
      },
      "source": [
        "cant_habiles = dias_habiles(2021,8)\n",
        "cant_habiles"
      ],
      "execution_count": null,
      "outputs": [
        {
          "output_type": "execute_result",
          "data": {
            "text/plain": [
              "22"
            ]
          },
          "metadata": {
            "tags": []
          },
          "execution_count": 9
        }
      ]
    },
    {
      "cell_type": "code",
      "metadata": {
        "colab": {
          "base_uri": "https://localhost:8080/"
        },
        "id": "Lm4Vi8Ek8pLe",
        "outputId": "1112772c-4373-4f18-d909-905596746b95"
      },
      "source": [
        "# Obtener Fecha Actual\n",
        "date.today() "
      ],
      "execution_count": null,
      "outputs": [
        {
          "output_type": "execute_result",
          "data": {
            "text/plain": [
              "datetime.date(2021, 8, 17)"
            ]
          },
          "metadata": {
            "tags": []
          },
          "execution_count": 10
        }
      ]
    },
    {
      "cell_type": "code",
      "metadata": {
        "colab": {
          "base_uri": "https://localhost:8080/"
        },
        "id": "DsGhzvvd80WC",
        "outputId": "1a466147-55a4-4f43-9528-a355e006efcb"
      },
      "source": [
        "# Podemos cambiar la fecha actual a otro momento del tiempo usando \"replace\"\n",
        "date.today().replace(year = 2019).replace(month = 1)"
      ],
      "execution_count": null,
      "outputs": [
        {
          "output_type": "execute_result",
          "data": {
            "text/plain": [
              "datetime.date(2019, 1, 17)"
            ]
          },
          "metadata": {
            "tags": []
          },
          "execution_count": 11
        }
      ]
    },
    {
      "cell_type": "code",
      "metadata": {
        "id": "C8PkIXtR9Bst"
      },
      "source": [
        ""
      ],
      "execution_count": null,
      "outputs": []
    }
  ]
}